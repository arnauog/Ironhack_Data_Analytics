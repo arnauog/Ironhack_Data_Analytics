{
 "cells": [
  {
   "cell_type": "markdown",
   "metadata": {},
   "source": [
    "Using the data from last class (regression_data.csv), try the find the best combination of preprocessing and model parameters to set the best model based on their basic metrics, MSE and R2. In the notebook, add a markdown to explain the different processes you have applied."
   ]
  },
  {
   "cell_type": "code",
   "execution_count": 1,
   "metadata": {},
   "outputs": [],
   "source": [
    "import warnings\n",
    "warnings.filterwarnings('ignore')\n",
    "import pandas as pd\n",
    "import numpy as np\n",
    "import matplotlib.pyplot as plt\n",
    "import seaborn as sns\n",
    "pd.set_option('display.max_columns', None)\n",
    "import math\n",
    "import statsmodels.api as sm\n",
    "from sklearn import linear_model\n",
    "from sklearn.preprocessing import StandardScaler\n",
    "from sklearn.neighbors import KNeighborsRegressor\n",
    "from sklearn.linear_model import LinearRegression, Ridge, Lasso\n",
    "from sklearn.metrics import mean_squared_error, r2_score\n",
    "from sklearn.model_selection import train_test_split\n",
    "from sklearn.preprocessing import PolynomialFeatures\n",
    "from sklearn.pipeline import make_pipeline"
   ]
  },
  {
   "cell_type": "code",
   "execution_count": 2,
   "metadata": {},
   "outputs": [
    {
     "data": {
      "text/html": [
       "<div>\n",
       "<style scoped>\n",
       "    .dataframe tbody tr th:only-of-type {\n",
       "        vertical-align: middle;\n",
       "    }\n",
       "\n",
       "    .dataframe tbody tr th {\n",
       "        vertical-align: top;\n",
       "    }\n",
       "\n",
       "    .dataframe thead th {\n",
       "        text-align: right;\n",
       "    }\n",
       "</style>\n",
       "<table border=\"1\" class=\"dataframe\">\n",
       "  <thead>\n",
       "    <tr style=\"text-align: right;\">\n",
       "      <th></th>\n",
       "      <th>HV1</th>\n",
       "      <th>IC1</th>\n",
       "      <th>IC2</th>\n",
       "      <th>IC3</th>\n",
       "      <th>IC4</th>\n",
       "      <th>IC5</th>\n",
       "      <th>AVGGIFT</th>\n",
       "      <th>TARGET_D</th>\n",
       "    </tr>\n",
       "  </thead>\n",
       "  <tbody>\n",
       "    <tr>\n",
       "      <th>0</th>\n",
       "      <td>2346</td>\n",
       "      <td>420</td>\n",
       "      <td>446</td>\n",
       "      <td>468</td>\n",
       "      <td>503</td>\n",
       "      <td>14552</td>\n",
       "      <td>15.500000</td>\n",
       "      <td>21.0</td>\n",
       "    </tr>\n",
       "    <tr>\n",
       "      <th>1</th>\n",
       "      <td>497</td>\n",
       "      <td>350</td>\n",
       "      <td>364</td>\n",
       "      <td>357</td>\n",
       "      <td>384</td>\n",
       "      <td>11696</td>\n",
       "      <td>3.080000</td>\n",
       "      <td>3.0</td>\n",
       "    </tr>\n",
       "    <tr>\n",
       "      <th>2</th>\n",
       "      <td>1229</td>\n",
       "      <td>469</td>\n",
       "      <td>502</td>\n",
       "      <td>507</td>\n",
       "      <td>544</td>\n",
       "      <td>17313</td>\n",
       "      <td>7.500000</td>\n",
       "      <td>20.0</td>\n",
       "    </tr>\n",
       "    <tr>\n",
       "      <th>3</th>\n",
       "      <td>325</td>\n",
       "      <td>148</td>\n",
       "      <td>181</td>\n",
       "      <td>171</td>\n",
       "      <td>209</td>\n",
       "      <td>6334</td>\n",
       "      <td>6.700000</td>\n",
       "      <td>5.0</td>\n",
       "    </tr>\n",
       "    <tr>\n",
       "      <th>4</th>\n",
       "      <td>768</td>\n",
       "      <td>174</td>\n",
       "      <td>201</td>\n",
       "      <td>220</td>\n",
       "      <td>249</td>\n",
       "      <td>7802</td>\n",
       "      <td>8.785714</td>\n",
       "      <td>10.0</td>\n",
       "    </tr>\n",
       "  </tbody>\n",
       "</table>\n",
       "</div>"
      ],
      "text/plain": [
       "    HV1  IC1  IC2  IC3  IC4    IC5    AVGGIFT  TARGET_D\n",
       "0  2346  420  446  468  503  14552  15.500000      21.0\n",
       "1   497  350  364  357  384  11696   3.080000       3.0\n",
       "2  1229  469  502  507  544  17313   7.500000      20.0\n",
       "3   325  148  181  171  209   6334   6.700000       5.0\n",
       "4   768  174  201  220  249   7802   8.785714      10.0"
      ]
     },
     "execution_count": 2,
     "metadata": {},
     "output_type": "execute_result"
    }
   ],
   "source": [
    "data = pd.read_csv('regression_data1.txt')\n",
    "data.head()"
   ]
  },
  {
   "cell_type": "code",
   "execution_count": 3,
   "metadata": {},
   "outputs": [
    {
     "data": {
      "text/plain": [
       "(4843, 8)"
      ]
     },
     "execution_count": 3,
     "metadata": {},
     "output_type": "execute_result"
    }
   ],
   "source": [
    "data.shape"
   ]
  },
  {
   "cell_type": "code",
   "execution_count": 4,
   "metadata": {},
   "outputs": [],
   "source": [
    "def linearmodel(data):\n",
    "    y = data['TARGET_D']\n",
    "    X = data.drop(columns=['TARGET_D']) # drop the constant\n",
    "\n",
    "    X_train, X_test, y_train, y_test = train_test_split(X, y, train_size=0.8, random_state=42) # split the data\n",
    "    lm = linear_model.LinearRegression() # create the model\n",
    "    lm.fit(X_train, y_train) # train the model\n",
    "    predictions = lm.predict(X_test) # calculate predictions\n",
    "\n",
    "    r2 = r2_score(y_test, predictions)\n",
    "    print(f'R2: {r2:.8f}')\n",
    "    mse = mean_squared_error(y_test, predictions)\n",
    "    print(f'MSE: {mse:.8f}')\n",
    "    mape = np.mean(np.abs((y_test - predictions)/y_test)*100)\n",
    "    print(f'MAPE: {mape:.8f}%')"
   ]
  },
  {
   "cell_type": "markdown",
   "metadata": {},
   "source": [
    "# From previous lessons"
   ]
  },
  {
   "cell_type": "markdown",
   "metadata": {},
   "source": [
    "## R2 and MSE"
   ]
  },
  {
   "cell_type": "code",
   "execution_count": 50,
   "metadata": {},
   "outputs": [
    {
     "data": {
      "text/plain": [
       "<Axes: >"
      ]
     },
     "execution_count": 50,
     "metadata": {},
     "output_type": "execute_result"
    },
    {
     "data": {
      "image/png": "[encoded data removed]",
      "text/plain": [
       "<Figure size 700x500 with 2 Axes>"
      ]
     },
     "metadata": {},
     "output_type": "display_data"
    }
   ],
   "source": [
    "# Heatmap\n",
    "plt.figure(figsize=(7,5))\n",
    "sns.heatmap(data.corr(),\n",
    "            annot=True, \n",
    "            cmap='coolwarm', vmin=-1\n",
    "            )"
   ]
  },
  {
   "cell_type": "markdown",
   "metadata": {},
   "source": [
    "The ``IC`` variables have a really high correlation with each other, meaning we have a problem of collinearity. "
   ]
  },
  {
   "cell_type": "markdown",
   "metadata": {},
   "source": [
    "## VIF"
   ]
  },
  {
   "cell_type": "markdown",
   "metadata": {},
   "source": [
    "Let's take a look at the VIF (Variance Inflation Factor) so we can see if there is multicollinearity."
   ]
  },
  {
   "cell_type": "code",
   "execution_count": 6,
   "metadata": {},
   "outputs": [],
   "source": [
    "from statsmodels.stats.outliers_influence import variance_inflation_factor"
   ]
  },
  {
   "cell_type": "code",
   "execution_count": 7,
   "metadata": {},
   "outputs": [
    {
     "data": {
      "text/html": [
       "<div>\n",
       "<style scoped>\n",
       "    .dataframe tbody tr th:only-of-type {\n",
       "        vertical-align: middle;\n",
       "    }\n",
       "\n",
       "    .dataframe tbody tr th {\n",
       "        vertical-align: top;\n",
       "    }\n",
       "\n",
       "    .dataframe thead th {\n",
       "        text-align: right;\n",
       "    }\n",
       "</style>\n",
       "<table border=\"1\" class=\"dataframe\">\n",
       "  <thead>\n",
       "    <tr style=\"text-align: right;\">\n",
       "      <th></th>\n",
       "      <th>Variables</th>\n",
       "      <th>VIF</th>\n",
       "    </tr>\n",
       "  </thead>\n",
       "  <tbody>\n",
       "    <tr>\n",
       "      <th>0</th>\n",
       "      <td>HV1</td>\n",
       "      <td>5.132969</td>\n",
       "    </tr>\n",
       "    <tr>\n",
       "      <th>1</th>\n",
       "      <td>IC1</td>\n",
       "      <td>278.050431</td>\n",
       "    </tr>\n",
       "    <tr>\n",
       "      <th>2</th>\n",
       "      <td>IC2</td>\n",
       "      <td>270.744404</td>\n",
       "    </tr>\n",
       "    <tr>\n",
       "      <th>3</th>\n",
       "      <td>IC3</td>\n",
       "      <td>638.040583</td>\n",
       "    </tr>\n",
       "    <tr>\n",
       "      <th>4</th>\n",
       "      <td>IC4</td>\n",
       "      <td>535.404193</td>\n",
       "    </tr>\n",
       "    <tr>\n",
       "      <th>5</th>\n",
       "      <td>IC5</td>\n",
       "      <td>19.312516</td>\n",
       "    </tr>\n",
       "    <tr>\n",
       "      <th>6</th>\n",
       "      <td>AVGGIFT</td>\n",
       "      <td>3.179431</td>\n",
       "    </tr>\n",
       "    <tr>\n",
       "      <th>7</th>\n",
       "      <td>TARGET_D</td>\n",
       "      <td>3.431505</td>\n",
       "    </tr>\n",
       "  </tbody>\n",
       "</table>\n",
       "</div>"
      ],
      "text/plain": [
       "  Variables         VIF\n",
       "0       HV1    5.132969\n",
       "1       IC1  278.050431\n",
       "2       IC2  270.744404\n",
       "3       IC3  638.040583\n",
       "4       IC4  535.404193\n",
       "5       IC5   19.312516\n",
       "6   AVGGIFT    3.179431\n",
       "7  TARGET_D    3.431505"
      ]
     },
     "execution_count": 7,
     "metadata": {},
     "output_type": "execute_result"
    }
   ],
   "source": [
    "vif_data = pd.DataFrame()\n",
    "vif_data['Variables'] = data.columns\n",
    "vif_data['VIF'] = [variance_inflation_factor(data.values, i) for i in range(data.shape[1])]\n",
    "vif_data"
   ]
  },
  {
   "cell_type": "markdown",
   "metadata": {},
   "source": [
    "As we suspected, we have a problem, VIF can be maximum 10. We apply the following function to get rid one by one of the variable with the highest VIF."
   ]
  },
  {
   "cell_type": "code",
   "execution_count": null,
   "metadata": {},
   "outputs": [
    {
     "name": "stdout",
     "output_type": "stream",
     "text": [
      "\n",
      "--- Iteración 1 ---\n",
      "   Variable         VIF\n",
      "0       HV1    5.132969\n",
      "1       IC1  278.050431\n",
      "2       IC2  270.744404\n",
      "3       IC3  638.040583\n",
      "4       IC4  535.404193\n",
      "5       IC5   19.312516\n",
      "6   AVGGIFT    3.179431\n",
      "7  TARGET_D    3.431505\n",
      "\n",
      "⚠️ Se eliminará la variable con mayor VIF: IC3 (VIF=638.040583411328)\n",
      "\n",
      "--- Iteración 2 ---\n",
      "   Variable         VIF\n",
      "0       HV1    5.106407\n",
      "1       IC1   57.677729\n",
      "2       IC2  168.759016\n",
      "3       IC4   98.405392\n",
      "4       IC5   18.987081\n",
      "5   AVGGIFT    3.174978\n",
      "6  TARGET_D    3.430791\n",
      "\n",
      "⚠️ Se eliminará la variable con mayor VIF: IC2 (VIF=168.75901550761108)\n",
      "\n",
      "--- Iteración 3 ---\n",
      "   Variable        VIF\n",
      "0       HV1   5.096261\n",
      "1       IC1  36.643465\n",
      "2       IC4  49.687661\n",
      "3       IC5  16.947173\n",
      "4   AVGGIFT   3.174812\n",
      "5  TARGET_D   3.428213\n",
      "\n",
      "⚠️ Se eliminará la variable con mayor VIF: IC4 (VIF=49.68766066801159)\n",
      "\n",
      "--- Iteración 4 ---\n",
      "   Variable        VIF\n",
      "0       HV1   5.095969\n",
      "1       IC1  12.945643\n",
      "2       IC5  13.876035\n",
      "3   AVGGIFT   3.128211\n",
      "4  TARGET_D   3.326191\n",
      "\n",
      "⚠️ Se eliminará la variable con mayor VIF: IC5 (VIF=13.876035077455985)\n",
      "\n",
      "--- Iteración 5 ---\n",
      "   Variable       VIF\n",
      "0       HV1  4.333231\n",
      "1       IC1  5.819806\n",
      "2   AVGGIFT  3.123332\n",
      "3  TARGET_D  3.315258\n",
      "\n",
      "✅ Todas las variables tienen VIF menor que 10\n",
      "\n",
      "📊 Proceso finalizado. Variables restantes:\n",
      "Index(['HV1', 'IC1', 'AVGGIFT', 'TARGET_D'], dtype='object')\n"
     ]
    }
   ],
   "source": [
    "def calcular_vif(data):\n",
    "    vif_data = pd.DataFrame()\n",
    "    vif_data[\"Variable\"] = data.columns\n",
    "    vif_data[\"VIF\"] = [variance_inflation_factor(data.values, i) for i in range(data.shape[1])]\n",
    "    return vif_data\n",
    "\n",
    "def eliminar_variables_vif(data, umbral=10):\n",
    "    iteracion = 1\n",
    "    while True:\n",
    "        print(f\"\\n--- Iteración {iteracion} ---\")\n",
    "        \n",
    "\n",
    "        vif_data = calcular_vif(data)\n",
    "        print(vif_data)\n",
    "        \n",
    "        max_vif = vif_data[\"VIF\"].max()\n",
    "        if max_vif < umbral:\n",
    "            print(\"\\n✅ Todas las variables tienen VIF menor que\", umbral)\n",
    "            break\n",
    "        \n",
    "        variable_a_eliminar = vif_data.loc[vif_data['VIF'].idxmax(), 'Variable']\n",
    "        print(f\"\\n⚠️ Se eliminará la variable con mayor VIF: {variable_a_eliminar} (VIF={max_vif})\")\n",
    "        \n",
    "        data = data.drop(columns=[variable_a_eliminar])\n",
    "        \n",
    "        iteracion += 1\n",
    "        \n",
    "    print(\"\\n📊 Proceso finalizado. Variables restantes:\")\n",
    "    print(data.columns)\n",
    "    return data, vif_data\n",
    "\n",
    "data_final, vif_final = eliminar_variables_vif(data, umbral=10)"
   ]
  },
  {
   "cell_type": "markdown",
   "metadata": {},
   "source": [
    "We got rid of all the ``IC`` except ``IC1``."
   ]
  },
  {
   "cell_type": "code",
   "execution_count": 9,
   "metadata": {},
   "outputs": [
    {
     "data": {
      "text/html": [
       "<div>\n",
       "<style scoped>\n",
       "    .dataframe tbody tr th:only-of-type {\n",
       "        vertical-align: middle;\n",
       "    }\n",
       "\n",
       "    .dataframe tbody tr th {\n",
       "        vertical-align: top;\n",
       "    }\n",
       "\n",
       "    .dataframe thead th {\n",
       "        text-align: right;\n",
       "    }\n",
       "</style>\n",
       "<table border=\"1\" class=\"dataframe\">\n",
       "  <thead>\n",
       "    <tr style=\"text-align: right;\">\n",
       "      <th></th>\n",
       "      <th>HV1</th>\n",
       "      <th>IC1</th>\n",
       "      <th>AVGGIFT</th>\n",
       "      <th>TARGET_D</th>\n",
       "    </tr>\n",
       "  </thead>\n",
       "  <tbody>\n",
       "    <tr>\n",
       "      <th>0</th>\n",
       "      <td>2346</td>\n",
       "      <td>420</td>\n",
       "      <td>15.500000</td>\n",
       "      <td>21.0</td>\n",
       "    </tr>\n",
       "    <tr>\n",
       "      <th>1</th>\n",
       "      <td>497</td>\n",
       "      <td>350</td>\n",
       "      <td>3.080000</td>\n",
       "      <td>3.0</td>\n",
       "    </tr>\n",
       "    <tr>\n",
       "      <th>2</th>\n",
       "      <td>1229</td>\n",
       "      <td>469</td>\n",
       "      <td>7.500000</td>\n",
       "      <td>20.0</td>\n",
       "    </tr>\n",
       "    <tr>\n",
       "      <th>3</th>\n",
       "      <td>325</td>\n",
       "      <td>148</td>\n",
       "      <td>6.700000</td>\n",
       "      <td>5.0</td>\n",
       "    </tr>\n",
       "    <tr>\n",
       "      <th>4</th>\n",
       "      <td>768</td>\n",
       "      <td>174</td>\n",
       "      <td>8.785714</td>\n",
       "      <td>10.0</td>\n",
       "    </tr>\n",
       "    <tr>\n",
       "      <th>...</th>\n",
       "      <td>...</td>\n",
       "      <td>...</td>\n",
       "      <td>...</td>\n",
       "      <td>...</td>\n",
       "    </tr>\n",
       "    <tr>\n",
       "      <th>4838</th>\n",
       "      <td>701</td>\n",
       "      <td>297</td>\n",
       "      <td>15.500000</td>\n",
       "      <td>25.0</td>\n",
       "    </tr>\n",
       "    <tr>\n",
       "      <th>4839</th>\n",
       "      <td>3357</td>\n",
       "      <td>284</td>\n",
       "      <td>11.857143</td>\n",
       "      <td>19.0</td>\n",
       "    </tr>\n",
       "    <tr>\n",
       "      <th>4840</th>\n",
       "      <td>700</td>\n",
       "      <td>322</td>\n",
       "      <td>11.333333</td>\n",
       "      <td>10.0</td>\n",
       "    </tr>\n",
       "    <tr>\n",
       "      <th>4841</th>\n",
       "      <td>601</td>\n",
       "      <td>206</td>\n",
       "      <td>13.000000</td>\n",
       "      <td>25.0</td>\n",
       "    </tr>\n",
       "    <tr>\n",
       "      <th>4842</th>\n",
       "      <td>919</td>\n",
       "      <td>425</td>\n",
       "      <td>17.923077</td>\n",
       "      <td>25.0</td>\n",
       "    </tr>\n",
       "  </tbody>\n",
       "</table>\n",
       "<p>4843 rows × 4 columns</p>\n",
       "</div>"
      ],
      "text/plain": [
       "       HV1  IC1    AVGGIFT  TARGET_D\n",
       "0     2346  420  15.500000      21.0\n",
       "1      497  350   3.080000       3.0\n",
       "2     1229  469   7.500000      20.0\n",
       "3      325  148   6.700000       5.0\n",
       "4      768  174   8.785714      10.0\n",
       "...    ...  ...        ...       ...\n",
       "4838   701  297  15.500000      25.0\n",
       "4839  3357  284  11.857143      19.0\n",
       "4840   700  322  11.333333      10.0\n",
       "4841   601  206  13.000000      25.0\n",
       "4842   919  425  17.923077      25.0\n",
       "\n",
       "[4843 rows x 4 columns]"
      ]
     },
     "execution_count": 9,
     "metadata": {},
     "output_type": "execute_result"
    }
   ],
   "source": [
    "data_final"
   ]
  },
  {
   "cell_type": "code",
   "execution_count": 10,
   "metadata": {},
   "outputs": [
    {
     "name": "stdout",
     "output_type": "stream",
     "text": [
      "<class 'pandas.core.frame.DataFrame'>\n",
      "RangeIndex: 4843 entries, 0 to 4842\n",
      "Data columns (total 4 columns):\n",
      " #   Column    Non-Null Count  Dtype  \n",
      "---  ------    --------------  -----  \n",
      " 0   HV1       4843 non-null   int64  \n",
      " 1   IC1       4843 non-null   int64  \n",
      " 2   AVGGIFT   4843 non-null   float64\n",
      " 3   TARGET_D  4843 non-null   float64\n",
      "dtypes: float64(2), int64(2)\n",
      "memory usage: 151.5 KB\n"
     ]
    }
   ],
   "source": [
    "data_final.info()"
   ]
  },
  {
   "cell_type": "markdown",
   "metadata": {},
   "source": [
    "So we are left with only numerical variables"
   ]
  },
  {
   "cell_type": "markdown",
   "metadata": {},
   "source": [
    "# Numerical preprocessing"
   ]
  },
  {
   "cell_type": "code",
   "execution_count": 11,
   "metadata": {},
   "outputs": [],
   "source": [
    "numericals = data_final.copy()"
   ]
  },
  {
   "cell_type": "code",
   "execution_count": 12,
   "metadata": {},
   "outputs": [
    {
     "name": "stdout",
     "output_type": "stream",
     "text": [
      "R2: -1.25456637\n",
      "MSE: 327.00136153\n",
      "MAPE: 43.04035436%\n"
     ]
    }
   ],
   "source": [
    "linearmodel(numericals)"
   ]
  },
  {
   "cell_type": "markdown",
   "metadata": {},
   "source": [
    "Let's check if we have null values"
   ]
  },
  {
   "cell_type": "code",
   "execution_count": 13,
   "metadata": {},
   "outputs": [
    {
     "data": {
      "text/plain": [
       "HV1         0\n",
       "IC1         0\n",
       "AVGGIFT     0\n",
       "TARGET_D    0\n",
       "dtype: int64"
      ]
     },
     "execution_count": 13,
     "metadata": {},
     "output_type": "execute_result"
    }
   ],
   "source": [
    "numericals.isna().sum()"
   ]
  },
  {
   "cell_type": "markdown",
   "metadata": {},
   "source": [
    "## Outliers"
   ]
  },
  {
   "cell_type": "code",
   "execution_count": 14,
   "metadata": {},
   "outputs": [
    {
     "data": {
      "image/png": "[encoded data removed]",
      "text/plain": [
       "<Figure size 640x480 with 1 Axes>"
      ]
     },
     "metadata": {},
     "output_type": "display_data"
    },
    {
     "data": {
      "image/png": "[encoded data removed]",
      "text/plain": [
       "<Figure size 640x480 with 1 Axes>"
      ]
     },
     "metadata": {},
     "output_type": "display_data"
    },
    {
     "data": {
      "image/png": "[encoded data removed]",
      "text/plain": [
       "<Figure size 640x480 with 1 Axes>"
      ]
     },
     "metadata": {},
     "output_type": "display_data"
    }
   ],
   "source": [
    "for column in numericals.drop(columns='TARGET_D').columns:\n",
    "    sns.scatterplot(data=numericals, x=column, y='TARGET_D')\n",
    "    plt.show()"
   ]
  },
  {
   "cell_type": "code",
   "execution_count": 15,
   "metadata": {},
   "outputs": [
    {
     "data": {
      "text/html": [
       "<div>\n",
       "<style scoped>\n",
       "    .dataframe tbody tr th:only-of-type {\n",
       "        vertical-align: middle;\n",
       "    }\n",
       "\n",
       "    .dataframe tbody tr th {\n",
       "        vertical-align: top;\n",
       "    }\n",
       "\n",
       "    .dataframe thead th {\n",
       "        text-align: right;\n",
       "    }\n",
       "</style>\n",
       "<table border=\"1\" class=\"dataframe\">\n",
       "  <thead>\n",
       "    <tr style=\"text-align: right;\">\n",
       "      <th></th>\n",
       "      <th>HV1</th>\n",
       "      <th>IC1</th>\n",
       "      <th>IC2</th>\n",
       "      <th>IC3</th>\n",
       "      <th>IC4</th>\n",
       "      <th>IC5</th>\n",
       "      <th>AVGGIFT</th>\n",
       "      <th>TARGET_D</th>\n",
       "      <th>mitjana</th>\n",
       "    </tr>\n",
       "  </thead>\n",
       "  <tbody>\n",
       "    <tr>\n",
       "      <th>2662</th>\n",
       "      <td>2067</td>\n",
       "      <td>489</td>\n",
       "      <td>534</td>\n",
       "      <td>540</td>\n",
       "      <td>583</td>\n",
       "      <td>19624</td>\n",
       "      <td>450.000000</td>\n",
       "      <td>20.0</td>\n",
       "      <td>22.500000</td>\n",
       "    </tr>\n",
       "    <tr>\n",
       "      <th>1134</th>\n",
       "      <td>629</td>\n",
       "      <td>306</td>\n",
       "      <td>452</td>\n",
       "      <td>450</td>\n",
       "      <td>559</td>\n",
       "      <td>24173</td>\n",
       "      <td>20.428571</td>\n",
       "      <td>1.0</td>\n",
       "      <td>20.428571</td>\n",
       "    </tr>\n",
       "    <tr>\n",
       "      <th>2891</th>\n",
       "      <td>5377</td>\n",
       "      <td>671</td>\n",
       "      <td>949</td>\n",
       "      <td>811</td>\n",
       "      <td>922</td>\n",
       "      <td>37647</td>\n",
       "      <td>100.000000</td>\n",
       "      <td>10.0</td>\n",
       "      <td>10.000000</td>\n",
       "    </tr>\n",
       "    <tr>\n",
       "      <th>2084</th>\n",
       "      <td>546</td>\n",
       "      <td>191</td>\n",
       "      <td>208</td>\n",
       "      <td>219</td>\n",
       "      <td>234</td>\n",
       "      <td>5846</td>\n",
       "      <td>14.800000</td>\n",
       "      <td>2.0</td>\n",
       "      <td>7.400000</td>\n",
       "    </tr>\n",
       "    <tr>\n",
       "      <th>2977</th>\n",
       "      <td>435</td>\n",
       "      <td>244</td>\n",
       "      <td>300</td>\n",
       "      <td>278</td>\n",
       "      <td>326</td>\n",
       "      <td>11022</td>\n",
       "      <td>44.700000</td>\n",
       "      <td>7.0</td>\n",
       "      <td>6.385714</td>\n",
       "    </tr>\n",
       "  </tbody>\n",
       "</table>\n",
       "</div>"
      ],
      "text/plain": [
       "       HV1  IC1  IC2  IC3  IC4    IC5     AVGGIFT  TARGET_D    mitjana\n",
       "2662  2067  489  534  540  583  19624  450.000000      20.0  22.500000\n",
       "1134   629  306  452  450  559  24173   20.428571       1.0  20.428571\n",
       "2891  5377  671  949  811  922  37647  100.000000      10.0  10.000000\n",
       "2084   546  191  208  219  234   5846   14.800000       2.0   7.400000\n",
       "2977   435  244  300  278  326  11022   44.700000       7.0   6.385714"
      ]
     },
     "execution_count": 15,
     "metadata": {},
     "output_type": "execute_result"
    }
   ],
   "source": [
    "data['mitjana'] = data['AVGGIFT'] / data['TARGET_D'] # create a new column\n",
    "data.sort_values('mitjana', ascending=False).head()"
   ]
  },
  {
   "cell_type": "code",
   "execution_count": 16,
   "metadata": {},
   "outputs": [
    {
     "data": {
      "text/html": [
       "<div>\n",
       "<style scoped>\n",
       "    .dataframe tbody tr th:only-of-type {\n",
       "        vertical-align: middle;\n",
       "    }\n",
       "\n",
       "    .dataframe tbody tr th {\n",
       "        vertical-align: top;\n",
       "    }\n",
       "\n",
       "    .dataframe thead th {\n",
       "        text-align: right;\n",
       "    }\n",
       "</style>\n",
       "<table border=\"1\" class=\"dataframe\">\n",
       "  <thead>\n",
       "    <tr style=\"text-align: right;\">\n",
       "      <th></th>\n",
       "      <th>HV1</th>\n",
       "      <th>IC1</th>\n",
       "      <th>IC2</th>\n",
       "      <th>IC3</th>\n",
       "      <th>IC4</th>\n",
       "      <th>IC5</th>\n",
       "      <th>AVGGIFT</th>\n",
       "      <th>TARGET_D</th>\n",
       "      <th>mitjana</th>\n",
       "    </tr>\n",
       "  </thead>\n",
       "  <tbody>\n",
       "    <tr>\n",
       "      <th>2662</th>\n",
       "      <td>2067</td>\n",
       "      <td>489</td>\n",
       "      <td>534</td>\n",
       "      <td>540</td>\n",
       "      <td>583</td>\n",
       "      <td>19624</td>\n",
       "      <td>450.0</td>\n",
       "      <td>20.0</td>\n",
       "      <td>22.5</td>\n",
       "    </tr>\n",
       "  </tbody>\n",
       "</table>\n",
       "</div>"
      ],
      "text/plain": [
       "       HV1  IC1  IC2  IC3  IC4    IC5  AVGGIFT  TARGET_D  mitjana\n",
       "2662  2067  489  534  540  583  19624    450.0      20.0     22.5"
      ]
     },
     "execution_count": 16,
     "metadata": {},
     "output_type": "execute_result"
    }
   ],
   "source": [
    "data[data['AVGGIFT']>400] # not representative, donation (TARGET_D) too small for such an average donation (AVG_GIFT)"
   ]
  },
  {
   "cell_type": "code",
   "execution_count": 17,
   "metadata": {},
   "outputs": [
    {
     "data": {
      "text/plain": [
       "HV1         0\n",
       "IC1         0\n",
       "AVGGIFT     0\n",
       "TARGET_D    0\n",
       "dtype: int64"
      ]
     },
     "execution_count": 17,
     "metadata": {},
     "output_type": "execute_result"
    }
   ],
   "source": [
    "data.drop(columns='mitjana', inplace=True) # we don't need this newly created column anymore\n",
    "\n",
    "# delete this extreme value\n",
    "numericals.AVGGIFT = np.where(numericals['AVGGIFT']>190, np.nan, numericals.AVGGIFT)\n",
    "numericals = numericals.dropna()\n",
    "numericals.reset_index(drop=True, inplace=True)\n",
    "numericals.isna().sum()"
   ]
  },
  {
   "cell_type": "code",
   "execution_count": 18,
   "metadata": {},
   "outputs": [
    {
     "name": "stdout",
     "output_type": "stream",
     "text": [
      "R2: 0.47822422\n",
      "MSE: 74.06339738\n",
      "MAPE: 39.02813838%\n"
     ]
    }
   ],
   "source": [
    "linearmodel(numericals)"
   ]
  },
  {
   "cell_type": "code",
   "execution_count": 19,
   "metadata": {},
   "outputs": [
    {
     "data": {
      "image/png": "[encoded data removed]",
      "text/plain": [
       "<Figure size 1000x100 with 1 Axes>"
      ]
     },
     "metadata": {},
     "output_type": "display_data"
    },
    {
     "data": {
      "image/png": "[encoded data removed]",
      "text/plain": [
       "<Figure size 1000x100 with 1 Axes>"
      ]
     },
     "metadata": {},
     "output_type": "display_data"
    },
    {
     "data": {
      "image/png": "[encoded data removed]",
      "text/plain": [
       "<Figure size 1000x100 with 1 Axes>"
      ]
     },
     "metadata": {},
     "output_type": "display_data"
    },
    {
     "data": {
      "image/png": "[encoded data removed]",
      "text/plain": [
       "<Figure size 1000x100 with 1 Axes>"
      ]
     },
     "metadata": {},
     "output_type": "display_data"
    }
   ],
   "source": [
    "for column in numericals.columns:\n",
    "    plt.figure(figsize=(10,1))\n",
    "    sns.boxplot(data=numericals, x=column)\n",
    "    plt.show()"
   ]
  },
  {
   "cell_type": "markdown",
   "metadata": {},
   "source": [
    "We have many outliers in the upper end, especially in ``AVGGIFT`` and ``TARGET_D``, meaning they are positively skewed.\n",
    "\n",
    "We can apply one of 2 transformations: logaritmic and squared."
   ]
  },
  {
   "cell_type": "markdown",
   "metadata": {},
   "source": [
    "### ``AVGGIFT`` transformation"
   ]
  },
  {
   "cell_type": "markdown",
   "metadata": {},
   "source": [
    "#### Logaritmic transformation"
   ]
  },
  {
   "cell_type": "code",
   "execution_count": 20,
   "metadata": {},
   "outputs": [],
   "source": [
    "# we create a function\n",
    "def log_trans(x):\n",
    "    if np.isfinite(x) and x!=0: \n",
    "        return np.log(x)\n",
    "    else:\n",
    "        return np.NAN # we transform the negatives and 0 values to nan so we can transform them later comfortably"
   ]
  },
  {
   "cell_type": "code",
   "execution_count": 21,
   "metadata": {},
   "outputs": [
    {
     "data": {
      "text/plain": [
       "<Axes: >"
      ]
     },
     "execution_count": 21,
     "metadata": {},
     "output_type": "execute_result"
    },
    {
     "data": {
      "image/png": "[encoded data removed]",
      "text/plain": [
       "<Figure size 1000x300 with 1 Axes>"
      ]
     },
     "metadata": {},
     "output_type": "display_data"
    }
   ],
   "source": [
    "plt.figure(figsize=(10,3))\n",
    "numericals['AVGGIFT'].hist(bins=80)"
   ]
  },
  {
   "cell_type": "code",
   "execution_count": 22,
   "metadata": {},
   "outputs": [
    {
     "data": {
      "text/plain": [
       "<Axes: >"
      ]
     },
     "execution_count": 22,
     "metadata": {},
     "output_type": "execute_result"
    },
    {
     "data": {
      "image/png": "[encoded data removed]",
      "text/plain": [
       "<Figure size 1000x300 with 1 Axes>"
      ]
     },
     "metadata": {},
     "output_type": "display_data"
    }
   ],
   "source": [
    "plt.figure(figsize=(10,3))\n",
    "pd.Series(map(log_trans, numericals['AVGGIFT'])).hist(bins=80)"
   ]
  },
  {
   "cell_type": "markdown",
   "metadata": {},
   "source": [
    "#### Square root transformation"
   ]
  },
  {
   "cell_type": "code",
   "execution_count": 23,
   "metadata": {},
   "outputs": [],
   "source": [
    "def squared(x):\n",
    "    if np.isfinite and x >= 0:\n",
    "        return np.sqrt(x)\n",
    "    else:\n",
    "        return np.NAN"
   ]
  },
  {
   "cell_type": "code",
   "execution_count": 24,
   "metadata": {},
   "outputs": [
    {
     "data": {
      "text/plain": [
       "<Axes: >"
      ]
     },
     "execution_count": 24,
     "metadata": {},
     "output_type": "execute_result"
    },
    {
     "data": {
      "image/png": "[encoded data removed]",
      "text/plain": [
       "<Figure size 1000x300 with 1 Axes>"
      ]
     },
     "metadata": {},
     "output_type": "display_data"
    }
   ],
   "source": [
    "plt.figure(figsize=(10,3))\n",
    "pd.Series(map(squared, numericals['AVGGIFT'])).hist(bins=80)"
   ]
  },
  {
   "cell_type": "markdown",
   "metadata": {},
   "source": [
    "The logaritmic transformation leaves us with a smaller range, so I prefer to use this one"
   ]
  },
  {
   "cell_type": "code",
   "execution_count": 25,
   "metadata": {},
   "outputs": [
    {
     "data": {
      "text/plain": [
       "HV1         0\n",
       "IC1         0\n",
       "AVGGIFT     0\n",
       "TARGET_D    0\n",
       "dtype: int64"
      ]
     },
     "execution_count": 25,
     "metadata": {},
     "output_type": "execute_result"
    }
   ],
   "source": [
    "numericals.isna().sum() # check there are no nulls"
   ]
  },
  {
   "cell_type": "code",
   "execution_count": 26,
   "metadata": {},
   "outputs": [],
   "source": [
    "numericals['AVGGIFT'] = np.log(numericals['AVGGIFT']) # apply the logaritmic transformation to the 'AVGGIFT' column"
   ]
  },
  {
   "cell_type": "code",
   "execution_count": 27,
   "metadata": {},
   "outputs": [
    {
     "data": {
      "text/plain": [
       "<Axes: xlabel='AVGGIFT'>"
      ]
     },
     "execution_count": 27,
     "metadata": {},
     "output_type": "execute_result"
    },
    {
     "data": {
      "image/png": "[encoded data removed]",
      "text/plain": [
       "<Figure size 1000x100 with 1 Axes>"
      ]
     },
     "metadata": {},
     "output_type": "display_data"
    }
   ],
   "source": [
    "plt.figure(figsize=(10,1))\n",
    "sns.boxplot(data=numericals, x='AVGGIFT') # display the boxplot"
   ]
  },
  {
   "cell_type": "code",
   "execution_count": 28,
   "metadata": {},
   "outputs": [
    {
     "name": "stdout",
     "output_type": "stream",
     "text": [
      "R2: 0.44449274\n",
      "MSE: 78.85140844\n",
      "MAPE: 39.16952083%\n"
     ]
    }
   ],
   "source": [
    "linearmodel(numericals)"
   ]
  },
  {
   "cell_type": "markdown",
   "metadata": {},
   "source": [
    "### ``TARGET_D`` transformation"
   ]
  },
  {
   "cell_type": "markdown",
   "metadata": {},
   "source": [
    "#### Logaritmic transformation"
   ]
  },
  {
   "cell_type": "code",
   "execution_count": 29,
   "metadata": {},
   "outputs": [
    {
     "data": {
      "text/plain": [
       "<Axes: >"
      ]
     },
     "execution_count": 29,
     "metadata": {},
     "output_type": "execute_result"
    },
    {
     "data": {
      "image/png": "[encoded data removed]",
      "text/plain": [
       "<Figure size 1000x300 with 1 Axes>"
      ]
     },
     "metadata": {},
     "output_type": "display_data"
    }
   ],
   "source": [
    "plt.figure(figsize=(10,3))\n",
    "numericals['TARGET_D'].hist(bins=80)"
   ]
  },
  {
   "cell_type": "code",
   "execution_count": 30,
   "metadata": {},
   "outputs": [
    {
     "data": {
      "text/plain": [
       "<Axes: >"
      ]
     },
     "execution_count": 30,
     "metadata": {},
     "output_type": "execute_result"
    },
    {
     "data": {
      "image/png": "[encoded data removed]",
      "text/plain": [
       "<Figure size 1000x300 with 1 Axes>"
      ]
     },
     "metadata": {},
     "output_type": "display_data"
    }
   ],
   "source": [
    "plt.figure(figsize=(10,3))\n",
    "pd.Series(map(log_trans, numericals['TARGET_D'])).hist(bins=80)"
   ]
  },
  {
   "cell_type": "markdown",
   "metadata": {},
   "source": [
    "#### Square root transformation"
   ]
  },
  {
   "cell_type": "code",
   "execution_count": 31,
   "metadata": {},
   "outputs": [
    {
     "data": {
      "text/plain": [
       "<Axes: >"
      ]
     },
     "execution_count": 31,
     "metadata": {},
     "output_type": "execute_result"
    },
    {
     "data": {
      "image/png": "[encoded data removed]",
      "text/plain": [
       "<Figure size 1000x300 with 1 Axes>"
      ]
     },
     "metadata": {},
     "output_type": "display_data"
    }
   ],
   "source": [
    "plt.figure(figsize=(10,3))\n",
    "pd.Series(map(squared, numericals['TARGET_D'])).hist(bins=80)"
   ]
  },
  {
   "cell_type": "markdown",
   "metadata": {},
   "source": [
    "The logaritmic transformation leaves us with a smaller range, so I prefer to use this one"
   ]
  },
  {
   "cell_type": "code",
   "execution_count": 32,
   "metadata": {},
   "outputs": [
    {
     "data": {
      "text/html": [
       "<div>\n",
       "<style scoped>\n",
       "    .dataframe tbody tr th:only-of-type {\n",
       "        vertical-align: middle;\n",
       "    }\n",
       "\n",
       "    .dataframe tbody tr th {\n",
       "        vertical-align: top;\n",
       "    }\n",
       "\n",
       "    .dataframe thead th {\n",
       "        text-align: right;\n",
       "    }\n",
       "</style>\n",
       "<table border=\"1\" class=\"dataframe\">\n",
       "  <thead>\n",
       "    <tr style=\"text-align: right;\">\n",
       "      <th></th>\n",
       "      <th>HV1</th>\n",
       "      <th>IC1</th>\n",
       "      <th>AVGGIFT</th>\n",
       "      <th>TARGET_D</th>\n",
       "    </tr>\n",
       "  </thead>\n",
       "  <tbody>\n",
       "    <tr>\n",
       "      <th>0</th>\n",
       "      <td>2346</td>\n",
       "      <td>420</td>\n",
       "      <td>2.740840</td>\n",
       "      <td>3.044522</td>\n",
       "    </tr>\n",
       "    <tr>\n",
       "      <th>1</th>\n",
       "      <td>497</td>\n",
       "      <td>350</td>\n",
       "      <td>1.124930</td>\n",
       "      <td>1.098612</td>\n",
       "    </tr>\n",
       "    <tr>\n",
       "      <th>2</th>\n",
       "      <td>1229</td>\n",
       "      <td>469</td>\n",
       "      <td>2.014903</td>\n",
       "      <td>2.995732</td>\n",
       "    </tr>\n",
       "    <tr>\n",
       "      <th>3</th>\n",
       "      <td>325</td>\n",
       "      <td>148</td>\n",
       "      <td>1.902108</td>\n",
       "      <td>1.609438</td>\n",
       "    </tr>\n",
       "    <tr>\n",
       "      <th>4</th>\n",
       "      <td>768</td>\n",
       "      <td>174</td>\n",
       "      <td>2.173127</td>\n",
       "      <td>2.302585</td>\n",
       "    </tr>\n",
       "    <tr>\n",
       "      <th>...</th>\n",
       "      <td>...</td>\n",
       "      <td>...</td>\n",
       "      <td>...</td>\n",
       "      <td>...</td>\n",
       "    </tr>\n",
       "    <tr>\n",
       "      <th>4836</th>\n",
       "      <td>701</td>\n",
       "      <td>297</td>\n",
       "      <td>2.740840</td>\n",
       "      <td>3.218876</td>\n",
       "    </tr>\n",
       "    <tr>\n",
       "      <th>4837</th>\n",
       "      <td>3357</td>\n",
       "      <td>284</td>\n",
       "      <td>2.472930</td>\n",
       "      <td>2.944439</td>\n",
       "    </tr>\n",
       "    <tr>\n",
       "      <th>4838</th>\n",
       "      <td>700</td>\n",
       "      <td>322</td>\n",
       "      <td>2.427748</td>\n",
       "      <td>2.302585</td>\n",
       "    </tr>\n",
       "    <tr>\n",
       "      <th>4839</th>\n",
       "      <td>601</td>\n",
       "      <td>206</td>\n",
       "      <td>2.564949</td>\n",
       "      <td>3.218876</td>\n",
       "    </tr>\n",
       "    <tr>\n",
       "      <th>4840</th>\n",
       "      <td>919</td>\n",
       "      <td>425</td>\n",
       "      <td>2.886089</td>\n",
       "      <td>3.218876</td>\n",
       "    </tr>\n",
       "  </tbody>\n",
       "</table>\n",
       "<p>4841 rows × 4 columns</p>\n",
       "</div>"
      ],
      "text/plain": [
       "       HV1  IC1   AVGGIFT  TARGET_D\n",
       "0     2346  420  2.740840  3.044522\n",
       "1      497  350  1.124930  1.098612\n",
       "2     1229  469  2.014903  2.995732\n",
       "3      325  148  1.902108  1.609438\n",
       "4      768  174  2.173127  2.302585\n",
       "...    ...  ...       ...       ...\n",
       "4836   701  297  2.740840  3.218876\n",
       "4837  3357  284  2.472930  2.944439\n",
       "4838   700  322  2.427748  2.302585\n",
       "4839   601  206  2.564949  3.218876\n",
       "4840   919  425  2.886089  3.218876\n",
       "\n",
       "[4841 rows x 4 columns]"
      ]
     },
     "execution_count": 32,
     "metadata": {},
     "output_type": "execute_result"
    }
   ],
   "source": [
    "numericals['TARGET_D'] = np.log(numericals['TARGET_D'])\n",
    "numericals"
   ]
  },
  {
   "cell_type": "markdown",
   "metadata": {},
   "source": [
    "# Checking the quality of the model"
   ]
  },
  {
   "cell_type": "code",
   "execution_count": 33,
   "metadata": {},
   "outputs": [
    {
     "data": {
      "text/html": [
       "<div>\n",
       "<style scoped>\n",
       "    .dataframe tbody tr th:only-of-type {\n",
       "        vertical-align: middle;\n",
       "    }\n",
       "\n",
       "    .dataframe tbody tr th {\n",
       "        vertical-align: top;\n",
       "    }\n",
       "\n",
       "    .dataframe thead th {\n",
       "        text-align: right;\n",
       "    }\n",
       "</style>\n",
       "<table border=\"1\" class=\"dataframe\">\n",
       "  <thead>\n",
       "    <tr style=\"text-align: right;\">\n",
       "      <th></th>\n",
       "      <th>HV1</th>\n",
       "      <th>IC1</th>\n",
       "      <th>AVGGIFT</th>\n",
       "      <th>TARGET_D</th>\n",
       "    </tr>\n",
       "  </thead>\n",
       "  <tbody>\n",
       "    <tr>\n",
       "      <th>0</th>\n",
       "      <td>2346</td>\n",
       "      <td>420</td>\n",
       "      <td>2.740840</td>\n",
       "      <td>3.044522</td>\n",
       "    </tr>\n",
       "    <tr>\n",
       "      <th>1</th>\n",
       "      <td>497</td>\n",
       "      <td>350</td>\n",
       "      <td>1.124930</td>\n",
       "      <td>1.098612</td>\n",
       "    </tr>\n",
       "    <tr>\n",
       "      <th>2</th>\n",
       "      <td>1229</td>\n",
       "      <td>469</td>\n",
       "      <td>2.014903</td>\n",
       "      <td>2.995732</td>\n",
       "    </tr>\n",
       "    <tr>\n",
       "      <th>3</th>\n",
       "      <td>325</td>\n",
       "      <td>148</td>\n",
       "      <td>1.902108</td>\n",
       "      <td>1.609438</td>\n",
       "    </tr>\n",
       "    <tr>\n",
       "      <th>4</th>\n",
       "      <td>768</td>\n",
       "      <td>174</td>\n",
       "      <td>2.173127</td>\n",
       "      <td>2.302585</td>\n",
       "    </tr>\n",
       "    <tr>\n",
       "      <th>...</th>\n",
       "      <td>...</td>\n",
       "      <td>...</td>\n",
       "      <td>...</td>\n",
       "      <td>...</td>\n",
       "    </tr>\n",
       "    <tr>\n",
       "      <th>4836</th>\n",
       "      <td>701</td>\n",
       "      <td>297</td>\n",
       "      <td>2.740840</td>\n",
       "      <td>3.218876</td>\n",
       "    </tr>\n",
       "    <tr>\n",
       "      <th>4837</th>\n",
       "      <td>3357</td>\n",
       "      <td>284</td>\n",
       "      <td>2.472930</td>\n",
       "      <td>2.944439</td>\n",
       "    </tr>\n",
       "    <tr>\n",
       "      <th>4838</th>\n",
       "      <td>700</td>\n",
       "      <td>322</td>\n",
       "      <td>2.427748</td>\n",
       "      <td>2.302585</td>\n",
       "    </tr>\n",
       "    <tr>\n",
       "      <th>4839</th>\n",
       "      <td>601</td>\n",
       "      <td>206</td>\n",
       "      <td>2.564949</td>\n",
       "      <td>3.218876</td>\n",
       "    </tr>\n",
       "    <tr>\n",
       "      <th>4840</th>\n",
       "      <td>919</td>\n",
       "      <td>425</td>\n",
       "      <td>2.886089</td>\n",
       "      <td>3.218876</td>\n",
       "    </tr>\n",
       "  </tbody>\n",
       "</table>\n",
       "<p>4841 rows × 4 columns</p>\n",
       "</div>"
      ],
      "text/plain": [
       "       HV1  IC1   AVGGIFT  TARGET_D\n",
       "0     2346  420  2.740840  3.044522\n",
       "1      497  350  1.124930  1.098612\n",
       "2     1229  469  2.014903  2.995732\n",
       "3      325  148  1.902108  1.609438\n",
       "4      768  174  2.173127  2.302585\n",
       "...    ...  ...       ...       ...\n",
       "4836   701  297  2.740840  3.218876\n",
       "4837  3357  284  2.472930  2.944439\n",
       "4838   700  322  2.427748  2.302585\n",
       "4839   601  206  2.564949  3.218876\n",
       "4840   919  425  2.886089  3.218876\n",
       "\n",
       "[4841 rows x 4 columns]"
      ]
     },
     "execution_count": 33,
     "metadata": {},
     "output_type": "execute_result"
    }
   ],
   "source": [
    "numericals"
   ]
  },
  {
   "cell_type": "markdown",
   "metadata": {},
   "source": [
    "## Linear Model"
   ]
  },
  {
   "cell_type": "code",
   "execution_count": 34,
   "metadata": {},
   "outputs": [
    {
     "name": "stdout",
     "output_type": "stream",
     "text": [
      "R2: 0.58142772\n",
      "MSE: 0.17423355\n",
      "MAPE: inf%\n"
     ]
    }
   ],
   "source": [
    "linearmodel(numericals)"
   ]
  },
  {
   "cell_type": "code",
   "execution_count": 35,
   "metadata": {},
   "outputs": [
    {
     "data": {
      "text/plain": [
       "0.0"
      ]
     },
     "execution_count": 35,
     "metadata": {},
     "output_type": "execute_result"
    }
   ],
   "source": [
    "numericals.TARGET_D.min()"
   ]
  },
  {
   "cell_type": "markdown",
   "metadata": {},
   "source": [
    "MAPE is infinite because we have donations that are 0"
   ]
  },
  {
   "cell_type": "markdown",
   "metadata": {},
   "source": [
    "### Ridge"
   ]
  },
  {
   "cell_type": "code",
   "execution_count": 36,
   "metadata": {},
   "outputs": [
    {
     "name": "stdout",
     "output_type": "stream",
     "text": [
      "📘 Ridge with alpha = 0.01\n",
      "R2: 0.58142738\n",
      "MSE: 0.17423368\n",
      "📘 Ridge with alpha = 0.1\n",
      "R2: 0.58142438\n",
      "MSE: 0.17423494\n",
      "📘 Ridge with alpha = 1\n",
      "R2: 0.58139389\n",
      "MSE: 0.17424763\n",
      "📘 Ridge with alpha = 10\n",
      "R2: 0.58104824\n",
      "MSE: 0.17439151\n",
      "📘 Ridge with alpha = 100\n",
      "R2: 0.57423567\n",
      "MSE: 0.17722729\n"
     ]
    }
   ],
   "source": [
    "y = numericals['TARGET_D']\n",
    "X = numericals.drop(columns=['TARGET_D']) # drop the constant\n",
    "X_train, X_test, y_train, y_test = train_test_split(X, y, train_size=0.8, random_state=42)\n",
    "\n",
    "alphas = [0.01, 0.1, 1, 10, 100]\n",
    "for i in alphas:\n",
    "    ridge = Ridge(alpha=i) \n",
    "    ridge.fit(X_train, y_train)\n",
    "    y_pred_ridge = ridge.predict(X_test)\n",
    "    mse_ridge = mean_squared_error(y_test, y_pred_ridge)\n",
    "    r2_ridge = r2_score(y_test, y_pred_ridge)\n",
    "\n",
    "    print(f\"📘 Ridge with alpha = {i}\")\n",
    "    print(f\"R2: {r2_ridge:.8f}\")\n",
    "    print(f\"MSE: {mse_ridge:.8f}\")"
   ]
  },
  {
   "cell_type": "markdown",
   "metadata": {},
   "source": [
    "The best is alpha = 0.01"
   ]
  },
  {
   "cell_type": "code",
   "execution_count": 37,
   "metadata": {},
   "outputs": [
    {
     "name": "stdout",
     "output_type": "stream",
     "text": [
      "📘 Ridge with alpha = 0.01\n",
      "R2: 0.58142763\n",
      "MSE: 0.17423358\n"
     ]
    }
   ],
   "source": [
    "# let's try scaling the features\n",
    "y = numericals['TARGET_D']\n",
    "X = numericals.drop(columns=['TARGET_D']) # drop the constant\n",
    "X_train, X_test, y_train, y_test = train_test_split(X, y, train_size=0.8, random_state=42)\n",
    "\n",
    "scaler = StandardScaler()\n",
    "scaled_X_train = scaler.fit_transform(X_train)\n",
    "scaled_X_test = scaler.transform(X_test)\n",
    "\n",
    "alpha=0.01\n",
    "ridge = Ridge(alpha=alpha)\n",
    "ridge.fit(scaled_X_train, y_train)\n",
    "y_pred_ridge = ridge.predict(scaled_X_test)\n",
    "\n",
    "r2_ridge = r2_score(y_test, y_pred_ridge)\n",
    "mse_ridge = mean_squared_error(y_test, y_pred_ridge)\n",
    "\n",
    "print(f\"📘 Ridge with alpha = {alpha}\")\n",
    "print(f\"R2: {r2_ridge:.8f}\")\n",
    "print(f\"MSE: {mse_ridge:.8f}\")"
   ]
  },
  {
   "cell_type": "markdown",
   "metadata": {},
   "source": [
    "It's almost the same, scaling doesn't really affect here."
   ]
  },
  {
   "cell_type": "markdown",
   "metadata": {},
   "source": [
    "### Lasso"
   ]
  },
  {
   "cell_type": "code",
   "execution_count": 38,
   "metadata": {},
   "outputs": [
    {
     "name": "stdout",
     "output_type": "stream",
     "text": [
      "📘 Lasso with alpha = 0.0001\n",
      "R2: 0.58141347\n",
      "MSE: 0.17423948\n",
      "📘 Lasso with alpha = 0.001\n",
      "R2: 0.58127716\n",
      "MSE: 0.17429622\n",
      "📘 Lasso with alpha = 0.01\n",
      "R2: 0.57911044\n",
      "MSE: 0.17519813\n",
      "📘 Lasso with alpha = 0.1\n",
      "R2: 0.47705319\n",
      "MSE: 0.21768015\n",
      "📘 Lasso with alpha = 1\n",
      "R2: 0.02163264\n",
      "MSE: 0.40725204\n"
     ]
    }
   ],
   "source": [
    "y = numericals['TARGET_D']\n",
    "X = numericals.drop(columns=['TARGET_D']) # drop the constant\n",
    "X_train, X_test, y_train, y_test = train_test_split(X, y, train_size=0.8, random_state=42)\n",
    "\n",
    "alphas = [0.0001, 0.001, 0.01, 0.1, 1]\n",
    "for i in alphas:\n",
    "    lasso = Lasso(alpha=i) \n",
    "    lasso.fit(X_train, y_train)\n",
    "    y_pred_lasso = lasso.predict(X_test)\n",
    "\n",
    "    r2_lasso = r2_score(y_test, y_pred_lasso)\n",
    "    mse_lasso = mean_squared_error(y_test, y_pred_lasso)\n",
    "\n",
    "    print(f\"📘 Lasso with alpha = {i}\")\n",
    "    print(f\"R2: {r2_lasso:.8f}\")\n",
    "    print(f\"MSE: {mse_lasso:.8f}\")"
   ]
  },
  {
   "cell_type": "markdown",
   "metadata": {},
   "source": [
    "Here the best is alpha = 0.0001"
   ]
  },
  {
   "cell_type": "code",
   "execution_count": 39,
   "metadata": {},
   "outputs": [
    {
     "data": {
      "text/plain": [
       "'\\n📘 Ridge with alpha = 0.01\\nR2: 0.58142763\\nMSE: 0.17423358\\nMAPE: inf%\\n\\n📘 Lasso with alpha = 0.0001\\nR2: 0.58141347\\nMSE: 0.17423948\\nMAPE: inf%\\n'"
      ]
     },
     "execution_count": 39,
     "metadata": {},
     "output_type": "execute_result"
    }
   ],
   "source": [
    "'''\n",
    "📘 Ridge with alpha = 0.01\n",
    "R2: 0.58142763\n",
    "MSE: 0.17423358\n",
    "MAPE: inf%\n",
    "\n",
    "📘 Lasso with alpha = 0.0001\n",
    "R2: 0.58141347\n",
    "MSE: 0.17423948\n",
    "MAPE: inf%\n",
    "'''"
   ]
  },
  {
   "cell_type": "markdown",
   "metadata": {},
   "source": [
    "They are both almost the same"
   ]
  },
  {
   "cell_type": "code",
   "execution_count": 40,
   "metadata": {},
   "outputs": [
    {
     "name": "stdout",
     "output_type": "stream",
     "text": [
      "📘 Lasso with alpha = 0.0001\n",
      "R2: 0.58142860\n",
      "MSE: 0.17423318\n"
     ]
    }
   ],
   "source": [
    "# let's try scaling the features\n",
    "y = numericals['TARGET_D']\n",
    "X = numericals.drop(columns=['TARGET_D']) # drop the constant\n",
    "X_train, X_test, y_train, y_test = train_test_split(X, y, train_size=0.8, random_state=42)\n",
    "\n",
    "scaler = StandardScaler()\n",
    "scaled_X_train = scaler.fit_transform(X_train)\n",
    "scaled_X_test = scaler.transform(X_test)\n",
    "\n",
    "alpha=0.0001\n",
    "lasso = Lasso(alpha=alpha)\n",
    "lasso.fit(scaled_X_train, y_train)\n",
    "y_pred_lasso = lasso.predict(scaled_X_test)\n",
    "\n",
    "r2_lasso = r2_score(y_test, y_pred_lasso)\n",
    "mse_lasso = mean_squared_error(y_test, y_pred_lasso)\n",
    "\n",
    "print(f\"📘 Lasso with alpha = {alpha}\")\n",
    "print(f\"R2: {r2_lasso:.8f}\")\n",
    "print(f\"MSE: {mse_lasso:.8f}\")"
   ]
  },
  {
   "cell_type": "markdown",
   "metadata": {},
   "source": [
    "Like before, it's almost the same, scaling doesn't really affect here."
   ]
  },
  {
   "cell_type": "markdown",
   "metadata": {},
   "source": [
    "### Polynomial features"
   ]
  },
  {
   "cell_type": "code",
   "execution_count": 41,
   "metadata": {},
   "outputs": [
    {
     "name": "stdout",
     "output_type": "stream",
     "text": [
      "📘 Polynomial features with degree = 1\n",
      "R2 train: 0.55927640\n",
      "R2 test: 0.58142772\n",
      "MSE: 0.17423355\n",
      "\n",
      "📘 Polynomial features with degree = 2\n",
      "R2 train: 0.56475667\n",
      "R2 test: 0.58746272\n",
      "MSE: 0.17172144\n",
      "\n",
      "📘 Polynomial features with degree = 3\n",
      "R2 train: 0.56679877\n",
      "R2 test: 0.58387559\n",
      "MSE: 0.17321460\n",
      "\n",
      "📘 Polynomial features with degree = 4\n",
      "R2 train: 0.57052755\n",
      "R2 test: 0.58645138\n",
      "MSE: 0.17214241\n",
      "\n",
      "📘 Polynomial features with degree = 5\n",
      "R2 train: 0.57480643\n",
      "R2 test: 0.58533056\n",
      "MSE: 0.17260896\n",
      "\n",
      "📘 Polynomial features with degree = 6\n",
      "R2 train: 0.57944387\n",
      "R2 test: 0.56805524\n",
      "MSE: 0.17979993\n",
      "\n",
      "📘 Polynomial features with degree = 7\n",
      "R2 train: 0.58406567\n",
      "R2 test: 0.30551894\n",
      "MSE: 0.28908244\n",
      "\n",
      "📘 Polynomial features with degree = 8\n",
      "R2 train: 0.58868648\n",
      "R2 test: 0.50850151\n",
      "MSE: 0.20458957\n",
      "\n",
      "📘 Polynomial features with degree = 9\n",
      "R2 train: 0.59557073\n",
      "R2 test: -3.95316752\n",
      "MSE: 2.06178952\n",
      "\n"
     ]
    }
   ],
   "source": [
    "y = numericals['TARGET_D']\n",
    "X = numericals.drop(columns=['TARGET_D']) # drop the constant\n",
    "X_train, X_test, y_train, y_test = train_test_split(X, y, train_size=0.8, random_state=42)\n",
    "\n",
    "degrees = range(1,10)\n",
    "for degree in degrees:\n",
    "    scaler = StandardScaler()\n",
    "    scaled_X_train = scaler.fit_transform(X_train)\n",
    "    scaled_X_test = scaler.transform(X_test)\n",
    "    \n",
    "    poly_reg = make_pipeline(PolynomialFeatures(degree=degree), LinearRegression())\n",
    "    poly_reg.fit(scaled_X_train, y_train)\n",
    "    y_train_pred = poly_reg.predict(scaled_X_train)\n",
    "    y_test_pred = poly_reg.predict(scaled_X_test)\n",
    "    \n",
    "    r2_train = r2_score(y_train, y_train_pred)\n",
    "    r2_test = r2_score(y_test, y_test_pred)\n",
    "    mse_poly = mean_squared_error(y_test, y_test_pred)\n",
    "\n",
    "    print(f\"📘 Polynomial features with degree = {degree}\")\n",
    "    print(f\"R2 train: {r2_train:.8f}\")\n",
    "    print(f\"R2 test: {r2_test:.8f}\")\n",
    "    print(f\"MSE: {mse_poly:.8f}\\n\")"
   ]
  },
  {
   "cell_type": "markdown",
   "metadata": {},
   "source": [
    "The best is **degree 5**"
   ]
  },
  {
   "cell_type": "markdown",
   "metadata": {},
   "source": [
    "## KNN"
   ]
  },
  {
   "cell_type": "markdown",
   "metadata": {},
   "source": [
    "### looking for the best metric"
   ]
  },
  {
   "cell_type": "code",
   "execution_count": 42,
   "metadata": {},
   "outputs": [
    {
     "name": "stdout",
     "output_type": "stream",
     "text": [
      "📘 KNN with 3 neighbors, weight = 'uniform', metric = euclidean\n",
      "R2 test: 0.43063108\n",
      "MAPE: inf%\n",
      "MSE: 0.23700367\n",
      "\n",
      "📘 KNN with 3 neighbors, weight = 'uniform', metric = manhattan\n",
      "R2 test: 0.42476860\n",
      "MAPE: inf%\n",
      "MSE: 0.23944396\n",
      "\n",
      "📘 KNN with 3 neighbors, weight = 'uniform', metric = minkowski\n",
      "R2 test: 0.42149692\n",
      "MAPE: inf%\n",
      "MSE: 0.24080583\n",
      "\n",
      "📘 KNN with 5 neighbors, weight = 'uniform', metric = euclidean\n",
      "R2 test: 0.47257050\n",
      "MAPE: inf%\n",
      "MSE: 0.21954610\n",
      "\n",
      "📘 KNN with 5 neighbors, weight = 'uniform', metric = manhattan\n",
      "R2 test: 0.47398289\n",
      "MAPE: inf%\n",
      "MSE: 0.21895818\n",
      "\n",
      "📘 KNN with 5 neighbors, weight = 'uniform', metric = minkowski\n",
      "R2 test: 0.47607704\n",
      "MAPE: inf%\n",
      "MSE: 0.21808648\n",
      "\n",
      "📘 KNN with 7 neighbors, weight = 'uniform', metric = euclidean\n",
      "R2 test: 0.50415175\n",
      "MAPE: inf%\n",
      "MSE: 0.20640019\n",
      "\n",
      "📘 KNN with 7 neighbors, weight = 'uniform', metric = manhattan\n",
      "R2 test: 0.50179021\n",
      "MAPE: inf%\n",
      "MSE: 0.20738320\n",
      "\n",
      "📘 KNN with 7 neighbors, weight = 'uniform', metric = minkowski\n",
      "R2 test: 0.51142949\n",
      "MAPE: inf%\n",
      "MSE: 0.20337078\n",
      "\n",
      "📘 KNN with 9 neighbors, weight = 'uniform', metric = euclidean\n",
      "R2 test: 0.52556511\n",
      "MAPE: inf%\n",
      "MSE: 0.19748674\n",
      "\n",
      "📘 KNN with 9 neighbors, weight = 'uniform', metric = manhattan\n",
      "R2 test: 0.51789233\n",
      "MAPE: inf%\n",
      "MSE: 0.20068058\n",
      "\n",
      "📘 KNN with 9 neighbors, weight = 'uniform', metric = minkowski\n",
      "R2 test: 0.52556423\n",
      "MAPE: inf%\n",
      "MSE: 0.19748710\n",
      "\n"
     ]
    }
   ],
   "source": [
    "# let's try scaling the features\n",
    "y = numericals['TARGET_D']\n",
    "X = numericals.drop(columns=['TARGET_D']) # drop the constant\n",
    "\n",
    "X_train, X_test, y_train, y_test = train_test_split(X, y, train_size=0.8, random_state=42) # split the data\n",
    "\n",
    "# Scale the features\n",
    "scaler = StandardScaler()\n",
    "scaled_X_train = scaler.fit_transform(X_train)\n",
    "scaled_X_test = scaler.transform(X_test)\n",
    "\n",
    "metrics=[\"euclidean\", \"manhattan\", \"minkowski\"]\n",
    "n=[3, 5, 7, 9]\n",
    "\n",
    "for neighbor in n:\n",
    "    for metric in metrics:\n",
    "        knn_reg = KNeighborsRegressor(n_neighbors=neighbor, weights='distance', metric=metric, p=3)\n",
    "        knn_reg.fit(scaled_X_train, y_train)\n",
    "        y_pred = knn_reg.predict(scaled_X_test)\n",
    "        \n",
    "        # Calculate metrics\n",
    "        r2 = r2_score(y_test, y_pred)\n",
    "        mse = mean_squared_error(y_test, y_pred)\n",
    "        mape = np.mean(np.abs((y_test - y_pred)/y_test)*100)\n",
    "\n",
    "        print(f\"📘 KNN with {neighbor} neighbors, weight = 'uniform', metric = {metric}\")\n",
    "        print(f\"R2 test: {r2:.8f}\")\n",
    "        print(f\"MAPE: {mape:.8f}%\")\n",
    "        print(f\"MSE: {mse:.8f}\\n\")"
   ]
  },
  {
   "cell_type": "markdown",
   "metadata": {},
   "source": [
    "### looking for the ideal number of neighbors"
   ]
  },
  {
   "cell_type": "code",
   "execution_count": 43,
   "metadata": {},
   "outputs": [
    {
     "name": "stdout",
     "output_type": "stream",
     "text": [
      "📘 KNN with 1 neighbors, weight = 'uniform', metric = 'minkowski'\n",
      "R2 test: 0.13723\n",
      "MAPE: inf%\n",
      "MSE: 0.35913\n",
      "\n",
      "📘 KNN with 3 neighbors, weight = 'uniform', metric = 'minkowski'\n",
      "R2 test: 0.42150\n",
      "MAPE: inf%\n",
      "MSE: 0.24081\n",
      "\n",
      "📘 KNN with 5 neighbors, weight = 'uniform', metric = 'minkowski'\n",
      "R2 test: 0.47608\n",
      "MAPE: inf%\n",
      "MSE: 0.21809\n",
      "\n",
      "📘 KNN with 7 neighbors, weight = 'uniform', metric = 'minkowski'\n",
      "R2 test: 0.51143\n",
      "MAPE: inf%\n",
      "MSE: 0.20337\n",
      "\n",
      "📘 KNN with 9 neighbors, weight = 'uniform', metric = 'minkowski'\n",
      "R2 test: 0.52556\n",
      "MAPE: inf%\n",
      "MSE: 0.19749\n",
      "\n",
      "📘 KNN with 11 neighbors, weight = 'uniform', metric = 'minkowski'\n",
      "R2 test: 0.53728\n",
      "MAPE: inf%\n",
      "MSE: 0.19261\n",
      "\n",
      "📘 KNN with 13 neighbors, weight = 'uniform', metric = 'minkowski'\n",
      "R2 test: 0.54180\n",
      "MAPE: inf%\n",
      "MSE: 0.19073\n",
      "\n",
      "📘 KNN with 15 neighbors, weight = 'uniform', metric = 'minkowski'\n",
      "R2 test: 0.55080\n",
      "MAPE: inf%\n",
      "MSE: 0.18698\n",
      "\n",
      "📘 KNN with 17 neighbors, weight = 'uniform', metric = 'minkowski'\n",
      "R2 test: 0.55445\n",
      "MAPE: inf%\n",
      "MSE: 0.18546\n",
      "\n",
      "📘 KNN with 19 neighbors, weight = 'uniform', metric = 'minkowski'\n",
      "R2 test: 0.55797\n",
      "MAPE: inf%\n",
      "MSE: 0.18400\n",
      "\n",
      "📘 KNN with 21 neighbors, weight = 'uniform', metric = 'minkowski'\n",
      "R2 test: 0.56128\n",
      "MAPE: inf%\n",
      "MSE: 0.18262\n",
      "\n",
      "📘 KNN with 23 neighbors, weight = 'uniform', metric = 'minkowski'\n",
      "R2 test: 0.56211\n",
      "MAPE: inf%\n",
      "MSE: 0.18228\n",
      "\n",
      "📘 KNN with 25 neighbors, weight = 'uniform', metric = 'minkowski'\n",
      "R2 test: 0.56452\n",
      "MAPE: inf%\n",
      "MSE: 0.18127\n",
      "\n",
      "📘 KNN with 27 neighbors, weight = 'uniform', metric = 'minkowski'\n",
      "R2 test: 0.56575\n",
      "MAPE: inf%\n",
      "MSE: 0.18076\n",
      "\n",
      "📘 KNN with 29 neighbors, weight = 'uniform', metric = 'minkowski'\n",
      "R2 test: 0.56723\n",
      "MAPE: inf%\n",
      "MSE: 0.18014\n",
      "\n",
      "📘 KNN with 31 neighbors, weight = 'uniform', metric = 'minkowski'\n",
      "R2 test: 0.56758\n",
      "MAPE: inf%\n",
      "MSE: 0.18000\n",
      "\n",
      "📘 KNN with 33 neighbors, weight = 'uniform', metric = 'minkowski'\n",
      "R2 test: 0.56909\n",
      "MAPE: inf%\n",
      "MSE: 0.17937\n",
      "\n",
      "📘 KNN with 35 neighbors, weight = 'uniform', metric = 'minkowski'\n",
      "R2 test: 0.56906\n",
      "MAPE: inf%\n",
      "MSE: 0.17938\n",
      "\n",
      "📘 KNN with 37 neighbors, weight = 'uniform', metric = 'minkowski'\n",
      "R2 test: 0.57074\n",
      "MAPE: inf%\n",
      "MSE: 0.17868\n",
      "\n",
      "📘 KNN with 39 neighbors, weight = 'uniform', metric = 'minkowski'\n",
      "R2 test: 0.57113\n",
      "MAPE: inf%\n",
      "MSE: 0.17852\n",
      "\n",
      "📘 KNN with 41 neighbors, weight = 'uniform', metric = 'minkowski'\n",
      "R2 test: 0.57368\n",
      "MAPE: inf%\n",
      "MSE: 0.17746\n",
      "\n",
      "📘 KNN with 43 neighbors, weight = 'uniform', metric = 'minkowski'\n",
      "R2 test: 0.57366\n",
      "MAPE: inf%\n",
      "MSE: 0.17747\n",
      "\n",
      "📘 KNN with 45 neighbors, weight = 'uniform', metric = 'minkowski'\n",
      "R2 test: 0.57440\n",
      "MAPE: inf%\n",
      "MSE: 0.17716\n",
      "\n",
      "📘 KNN with 47 neighbors, weight = 'uniform', metric = 'minkowski'\n",
      "R2 test: 0.57462\n",
      "MAPE: inf%\n",
      "MSE: 0.17707\n",
      "\n",
      "📘 KNN with 49 neighbors, weight = 'uniform', metric = 'minkowski'\n",
      "R2 test: 0.57308\n",
      "MAPE: inf%\n",
      "MSE: 0.17771\n",
      "\n",
      "📘 KNN with 51 neighbors, weight = 'uniform', metric = 'minkowski'\n",
      "R2 test: 0.57281\n",
      "MAPE: inf%\n",
      "MSE: 0.17782\n",
      "\n",
      "📘 KNN with 53 neighbors, weight = 'uniform', metric = 'minkowski'\n",
      "R2 test: 0.57326\n",
      "MAPE: inf%\n",
      "MSE: 0.17763\n",
      "\n",
      "📘 KNN with 55 neighbors, weight = 'uniform', metric = 'minkowski'\n",
      "R2 test: 0.57356\n",
      "MAPE: inf%\n",
      "MSE: 0.17751\n",
      "\n",
      "📘 KNN with 57 neighbors, weight = 'uniform', metric = 'minkowski'\n",
      "R2 test: 0.57288\n",
      "MAPE: inf%\n",
      "MSE: 0.17779\n",
      "\n",
      "📘 KNN with 59 neighbors, weight = 'uniform', metric = 'minkowski'\n",
      "R2 test: 0.57339\n",
      "MAPE: inf%\n",
      "MSE: 0.17758\n",
      "\n",
      "📘 KNN with 61 neighbors, weight = 'uniform', metric = 'minkowski'\n",
      "R2 test: 0.57391\n",
      "MAPE: inf%\n",
      "MSE: 0.17736\n",
      "\n",
      "📘 KNN with 63 neighbors, weight = 'uniform', metric = 'minkowski'\n",
      "R2 test: 0.57367\n",
      "MAPE: inf%\n",
      "MSE: 0.17746\n",
      "\n",
      "📘 KNN with 65 neighbors, weight = 'uniform', metric = 'minkowski'\n",
      "R2 test: 0.57431\n",
      "MAPE: inf%\n",
      "MSE: 0.17720\n",
      "\n",
      "📘 KNN with 67 neighbors, weight = 'uniform', metric = 'minkowski'\n",
      "R2 test: 0.57457\n",
      "MAPE: inf%\n",
      "MSE: 0.17709\n",
      "\n",
      "📘 KNN with 69 neighbors, weight = 'uniform', metric = 'minkowski'\n",
      "R2 test: 0.57466\n",
      "MAPE: inf%\n",
      "MSE: 0.17705\n",
      "\n",
      "📘 KNN with 71 neighbors, weight = 'uniform', metric = 'minkowski'\n",
      "R2 test: 0.57476\n",
      "MAPE: inf%\n",
      "MSE: 0.17701\n",
      "\n",
      "📘 KNN with 73 neighbors, weight = 'uniform', metric = 'minkowski'\n",
      "R2 test: 0.57480\n",
      "MAPE: inf%\n",
      "MSE: 0.17699\n",
      "\n",
      "📘 KNN with 75 neighbors, weight = 'uniform', metric = 'minkowski'\n",
      "R2 test: 0.57467\n",
      "MAPE: inf%\n",
      "MSE: 0.17704\n",
      "\n",
      "📘 KNN with 77 neighbors, weight = 'uniform', metric = 'minkowski'\n",
      "R2 test: 0.57459\n",
      "MAPE: inf%\n",
      "MSE: 0.17708\n",
      "\n",
      "📘 KNN with 79 neighbors, weight = 'uniform', metric = 'minkowski'\n",
      "R2 test: 0.57450\n",
      "MAPE: inf%\n",
      "MSE: 0.17712\n",
      "\n",
      "📘 KNN with 81 neighbors, weight = 'uniform', metric = 'minkowski'\n",
      "R2 test: 0.57481\n",
      "MAPE: inf%\n",
      "MSE: 0.17699\n",
      "\n",
      "📘 KNN with 83 neighbors, weight = 'uniform', metric = 'minkowski'\n",
      "R2 test: 0.57395\n",
      "MAPE: inf%\n",
      "MSE: 0.17735\n",
      "\n",
      "📘 KNN with 85 neighbors, weight = 'uniform', metric = 'minkowski'\n",
      "R2 test: 0.57371\n",
      "MAPE: inf%\n",
      "MSE: 0.17744\n",
      "\n",
      "📘 KNN with 87 neighbors, weight = 'uniform', metric = 'minkowski'\n",
      "R2 test: 0.57460\n",
      "MAPE: inf%\n",
      "MSE: 0.17708\n",
      "\n",
      "📘 KNN with 89 neighbors, weight = 'uniform', metric = 'minkowski'\n",
      "R2 test: 0.57464\n",
      "MAPE: inf%\n",
      "MSE: 0.17706\n",
      "\n",
      "📘 KNN with 91 neighbors, weight = 'uniform', metric = 'minkowski'\n",
      "R2 test: 0.57458\n",
      "MAPE: inf%\n",
      "MSE: 0.17708\n",
      "\n",
      "📘 KNN with 93 neighbors, weight = 'uniform', metric = 'minkowski'\n",
      "R2 test: 0.57448\n",
      "MAPE: inf%\n",
      "MSE: 0.17712\n",
      "\n",
      "📘 KNN with 95 neighbors, weight = 'uniform', metric = 'minkowski'\n",
      "R2 test: 0.57426\n",
      "MAPE: inf%\n",
      "MSE: 0.17722\n",
      "\n",
      "📘 KNN with 97 neighbors, weight = 'uniform', metric = 'minkowski'\n",
      "R2 test: 0.57470\n",
      "MAPE: inf%\n",
      "MSE: 0.17704\n",
      "\n",
      "Ideal number of neighbors: 81\n"
     ]
    }
   ],
   "source": [
    "# the best metric is Minkowski\n",
    "y = numericals['TARGET_D']\n",
    "X = numericals.drop(columns=['TARGET_D']) # drop the constant\n",
    "\n",
    "X_train, X_test, y_train, y_test = train_test_split(X, y, train_size=0.8, random_state=42) # split the data\n",
    "\n",
    "# Scale the features\n",
    "scaler = StandardScaler()\n",
    "scaled_X_train = scaler.fit_transform(X_train)\n",
    "scaled_X_test = scaler.transform(X_test)\n",
    "\n",
    "r2score = 0\n",
    "best_neighbor = 0\n",
    "n = range(1,99,2)\n",
    "\n",
    "for neighbor in n:\n",
    "    knn_reg = KNeighborsRegressor(n_neighbors=neighbor, weights='distance', metric='minkowski', p=3)\n",
    "    knn_reg.fit(scaled_X_train, y_train)\n",
    "    y_pred = knn_reg.predict(scaled_X_test)\n",
    "    \n",
    "    # Calculate metrics\n",
    "    r2 = r2_score(y_test, y_pred)\n",
    "    mse = mean_squared_error(y_test, y_pred)\n",
    "    mape = np.mean(np.abs((y_test - y_pred)/y_test)*100)\n",
    "\n",
    "    print(f\"📘 KNN with {neighbor} neighbors, weight = 'uniform', metric = 'minkowski'\")\n",
    "    print(f\"R2 test: {r2:.5f}\")\n",
    "    print(f\"MAPE: {mape:.5f}%\")\n",
    "    print(f\"MSE: {mse:.5f}\\n\")\n",
    "\n",
    "    if r2 > r2score: # for loop to determine the best number of neighbors based on the r2 score\n",
    "        r2score = r2\n",
    "        best_neighbor = neighbor\n",
    "\n",
    "print(f'Ideal number of neighbors: {best_neighbor}')"
   ]
  },
  {
   "cell_type": "code",
   "execution_count": 44,
   "metadata": {},
   "outputs": [
    {
     "name": "stdout",
     "output_type": "stream",
     "text": [
      "📘 KNN with 81 neighbors, weight = 'uniform', metric = 'minkowski'\n",
      "R2 test: 0.57481\n",
      "MAPE: inf%\n",
      "MSE: 0.17699\n",
      "\n"
     ]
    }
   ],
   "source": [
    "y = numericals['TARGET_D']\n",
    "X = numericals.drop(columns=['TARGET_D']) # drop the constant\n",
    "\n",
    "X_train, X_test, y_train, y_test = train_test_split(X, y, train_size=0.8, random_state=42) # split the data\n",
    "\n",
    "# Scale the features\n",
    "scaler = StandardScaler()\n",
    "scaled_X_train = scaler.fit_transform(X_train)\n",
    "scaled_X_test = scaler.transform(X_test)\n",
    "\n",
    "knn_reg = KNeighborsRegressor(n_neighbors=81, weights='distance', metric='minkowski', p=3)\n",
    "knn_reg.fit(scaled_X_train, y_train)\n",
    "y_pred = knn_reg.predict(scaled_X_test)\n",
    "\n",
    "# Calculate metrics\n",
    "r2 = r2_score(y_test, y_pred)\n",
    "mse = mean_squared_error(y_test, y_pred)\n",
    "mape = np.mean(np.abs((y_test - y_pred)/y_test)*100)\n",
    "\n",
    "print(f\"📘 KNN with 81 neighbors, weight = 'uniform', metric = 'minkowski'\")\n",
    "print(f\"R2 test: {r2:.5f}\")\n",
    "print(f\"MAPE: {mape:.5f}%\")\n",
    "print(f\"MSE: {mse:.5f}\\n\")"
   ]
  },
  {
   "cell_type": "code",
   "execution_count": 45,
   "metadata": {},
   "outputs": [
    {
     "data": {
      "text/plain": [
       "'\\n📘 Lasso with alpha = 0.0001\\nR2: 0.58142860\\nMSE: 0.17423318\\nMAPE: inf%\\n\\n📘 Ridge with alpha = 0.01\\nR2: 0.58142763\\nMSE: 0.17423358\\nMAPE: inf%\\n\\nLinear Model\\nR2: 0.58142772\\nMSE: 0.17423355\\n'"
      ]
     },
     "execution_count": 45,
     "metadata": {},
     "output_type": "execute_result"
    }
   ],
   "source": [
    "'''\n",
    "📘 Lasso with alpha = 0.0001\n",
    "R2: 0.58142860\n",
    "MSE: 0.17423318\n",
    "MAPE: inf%\n",
    "\n",
    "📘 Ridge with alpha = 0.01\n",
    "R2: 0.58142763\n",
    "MSE: 0.17423358\n",
    "MAPE: inf%\n",
    "\n",
    "Linear Model\n",
    "R2: 0.58142772\n",
    "MSE: 0.17423355\n",
    "'''"
   ]
  },
  {
   "cell_type": "markdown",
   "metadata": {},
   "source": [
    "So we can conclude Ridge and Lasso are almost identical and slightly better than KNN"
   ]
  }
 ],
 "metadata": {
  "kernelspec": {
   "display_name": "base",
   "language": "python",
   "name": "python3"
  },
  "language_info": {
   "codemirror_mode": {
    "name": "ipython",
    "version": 3
   },
   "file_extension": ".py",
   "mimetype": "text/x-python",
   "name": "python",
   "nbconvert_exporter": "python",
   "pygments_lexer": "ipython3",
   "version": "3.12.4"
  }
 },
 "nbformat": 4,
 "nbformat_minor": 2
}
