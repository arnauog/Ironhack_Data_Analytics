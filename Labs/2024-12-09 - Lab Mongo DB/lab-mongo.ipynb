{
 "cells": [
  {
   "cell_type": "markdown",
   "metadata": {},
   "source": [
    "# Advanced Querying Mongo"
   ]
  },
  {
   "cell_type": "markdown",
   "metadata": {},
   "source": [
    "Importing libraries and setting up connection with \"companies\" collection. As in class, call it `c`"
   ]
  },
  {
   "cell_type": "code",
   "execution_count": 1,
   "metadata": {},
   "outputs": [],
   "source": [
    "from pymongo import MongoClient\n",
    "client = MongoClient(\"localhost:27017\")"
   ]
  },
  {
   "cell_type": "code",
   "execution_count": 2,
   "metadata": {},
   "outputs": [
    {
     "data": {
      "text/plain": [
       "['Ironhack', 'admin', 'config', 'local']"
      ]
     },
     "execution_count": 2,
     "metadata": {},
     "output_type": "execute_result"
    }
   ],
   "source": [
    "client.list_database_names()"
   ]
  },
  {
   "cell_type": "code",
   "execution_count": 3,
   "metadata": {},
   "outputs": [],
   "source": [
    "db = client['Ironhack']"
   ]
  },
  {
   "cell_type": "code",
   "execution_count": 4,
   "metadata": {},
   "outputs": [
    {
     "data": {
      "text/plain": [
       "['companies', 'shoes', 'Restaurants']"
      ]
     },
     "execution_count": 4,
     "metadata": {},
     "output_type": "execute_result"
    }
   ],
   "source": [
    "db.list_collection_names()"
   ]
  },
  {
   "cell_type": "code",
   "execution_count": 5,
   "metadata": {},
   "outputs": [],
   "source": [
    "c = db.get_collection('companies')"
   ]
  },
  {
   "cell_type": "markdown",
   "metadata": {},
   "source": [
    "### 1. All the companies whose name match 'Babelgum'. Retrieve only their `name` field."
   ]
  },
  {
   "cell_type": "code",
   "execution_count": 6,
   "metadata": {},
   "outputs": [
    {
     "data": {
      "text/plain": [
       "[{'name': 'Babelgum'}]"
      ]
     },
     "execution_count": 6,
     "metadata": {},
     "output_type": "execute_result"
    }
   ],
   "source": [
    "filter = {'name':{'$regex':'.*Babelgum.*'}}\n",
    "projection = {'name': 1, '_id': 0}\n",
    "list(c.find(filter, projection))"
   ]
  },
  {
   "cell_type": "code",
   "execution_count": 7,
   "metadata": {},
   "outputs": [
    {
     "data": {
      "text/plain": [
       "1"
      ]
     },
     "execution_count": 7,
     "metadata": {},
     "output_type": "execute_result"
    }
   ],
   "source": [
    "len(list(c.find(filter, projection)))"
   ]
  },
  {
   "cell_type": "markdown",
   "metadata": {},
   "source": [
    "### 2. All the companies that have more than 5000 employees. Limit the search to 20 companies and sort them by **number of employees**."
   ]
  },
  {
   "cell_type": "code",
   "execution_count": 8,
   "metadata": {},
   "outputs": [
    {
     "data": {
      "text/plain": [
       "[{'name': 'Siemens'},\n",
       " {'name': 'IBM'},\n",
       " {'name': 'Toyota'},\n",
       " {'name': 'PayPal'},\n",
       " {'name': 'Nippon Telegraph and Telephone Corporation'},\n",
       " {'name': 'Samsung Electronics'},\n",
       " {'name': 'Accenture'},\n",
       " {'name': 'Tata Consultancy Services'},\n",
       " {'name': 'Flextronics International'},\n",
       " {'name': 'Safeway'},\n",
       " {'name': 'Sony'},\n",
       " {'name': 'LG'},\n",
       " {'name': 'Ford'},\n",
       " {'name': 'Boeing'},\n",
       " {'name': 'Digital Equipment Corporation'},\n",
       " {'name': 'Nokia'},\n",
       " {'name': 'MItsubishi Electric'},\n",
       " {'name': 'MItsubishi Electric'},\n",
       " {'name': 'Comcast'},\n",
       " {'name': 'Bertelsmann'}]"
      ]
     },
     "execution_count": 8,
     "metadata": {},
     "output_type": "execute_result"
    }
   ],
   "source": [
    "filter = {'number_of_employees':{'$gt': 5000}}\n",
    "projection = {'name': 1, '_id': 0}\n",
    "list(c.find(filter, projection).sort('number_of_employees', -1).limit(20))"
   ]
  },
  {
   "cell_type": "markdown",
   "metadata": {},
   "source": [
    "### 3. All the companies founded between 2000 and 2005, both years included. Retrieve only the `name` and `founded_year` fields."
   ]
  },
  {
   "cell_type": "code",
   "execution_count": 57,
   "metadata": {},
   "outputs": [
    {
     "data": {
      "text/plain": [
       "3734"
      ]
     },
     "execution_count": 57,
     "metadata": {},
     "output_type": "execute_result"
    }
   ],
   "source": [
    "firstyear = {'founded_year': {'$gte': 2000}}\n",
    "lastyear = {'founded_year': {'$lte': 2005}}\n",
    "filter = {\"$and\": [firstyear, lastyear]}\n",
    "projection = {'name': 1, 'founded_year': 1, '_id': 0}\n",
    "len(list(c.find(filter, projection)))"
   ]
  },
  {
   "cell_type": "code",
   "execution_count": 58,
   "metadata": {},
   "outputs": [
    {
     "data": {
      "text/plain": [
       "[{'name': 'Wetpaint', 'founded_year': 2005},\n",
       " {'name': 'Zoho', 'founded_year': 2005},\n",
       " {'name': 'Digg', 'founded_year': 2004},\n",
       " {'name': 'Facebook', 'founded_year': 2004},\n",
       " {'name': 'Omnidrive', 'founded_year': 2005}]"
      ]
     },
     "execution_count": 58,
     "metadata": {},
     "output_type": "execute_result"
    }
   ],
   "source": [
    "list(c.find(filter, projection))[:5]"
   ]
  },
  {
   "cell_type": "code",
   "execution_count": 59,
   "metadata": {},
   "outputs": [],
   "source": [
    "import pandas as pd"
   ]
  },
  {
   "cell_type": "code",
   "execution_count": 60,
   "metadata": {},
   "outputs": [
    {
     "data": {
      "text/html": [
       "<div>\n",
       "<style scoped>\n",
       "    .dataframe tbody tr th:only-of-type {\n",
       "        vertical-align: middle;\n",
       "    }\n",
       "\n",
       "    .dataframe tbody tr th {\n",
       "        vertical-align: top;\n",
       "    }\n",
       "\n",
       "    .dataframe thead th {\n",
       "        text-align: right;\n",
       "    }\n",
       "</style>\n",
       "<table border=\"1\" class=\"dataframe\">\n",
       "  <thead>\n",
       "    <tr style=\"text-align: right;\">\n",
       "      <th></th>\n",
       "      <th>name</th>\n",
       "      <th>founded_year</th>\n",
       "    </tr>\n",
       "  </thead>\n",
       "  <tbody>\n",
       "    <tr>\n",
       "      <th>0</th>\n",
       "      <td>Wetpaint</td>\n",
       "      <td>2005</td>\n",
       "    </tr>\n",
       "    <tr>\n",
       "      <th>1</th>\n",
       "      <td>Zoho</td>\n",
       "      <td>2005</td>\n",
       "    </tr>\n",
       "    <tr>\n",
       "      <th>2</th>\n",
       "      <td>Digg</td>\n",
       "      <td>2004</td>\n",
       "    </tr>\n",
       "    <tr>\n",
       "      <th>3</th>\n",
       "      <td>Facebook</td>\n",
       "      <td>2004</td>\n",
       "    </tr>\n",
       "    <tr>\n",
       "      <th>4</th>\n",
       "      <td>Omnidrive</td>\n",
       "      <td>2005</td>\n",
       "    </tr>\n",
       "    <tr>\n",
       "      <th>...</th>\n",
       "      <td>...</td>\n",
       "      <td>...</td>\n",
       "    </tr>\n",
       "    <tr>\n",
       "      <th>3729</th>\n",
       "      <td>EnterSys Group</td>\n",
       "      <td>2000</td>\n",
       "    </tr>\n",
       "    <tr>\n",
       "      <th>3730</th>\n",
       "      <td>Axon Solutions</td>\n",
       "      <td>2004</td>\n",
       "    </tr>\n",
       "    <tr>\n",
       "      <th>3731</th>\n",
       "      <td>Intergy</td>\n",
       "      <td>2003</td>\n",
       "    </tr>\n",
       "    <tr>\n",
       "      <th>3732</th>\n",
       "      <td>AfterLogic</td>\n",
       "      <td>2002</td>\n",
       "    </tr>\n",
       "    <tr>\n",
       "      <th>3733</th>\n",
       "      <td>EnteGreat</td>\n",
       "      <td>2000</td>\n",
       "    </tr>\n",
       "  </tbody>\n",
       "</table>\n",
       "<p>3734 rows × 2 columns</p>\n",
       "</div>"
      ],
      "text/plain": [
       "                name  founded_year\n",
       "0           Wetpaint          2005\n",
       "1               Zoho          2005\n",
       "2               Digg          2004\n",
       "3           Facebook          2004\n",
       "4          Omnidrive          2005\n",
       "...              ...           ...\n",
       "3729  EnterSys Group          2000\n",
       "3730  Axon Solutions          2004\n",
       "3731         Intergy          2003\n",
       "3732      AfterLogic          2002\n",
       "3733       EnteGreat          2000\n",
       "\n",
       "[3734 rows x 2 columns]"
      ]
     },
     "execution_count": 60,
     "metadata": {},
     "output_type": "execute_result"
    }
   ],
   "source": [
    "df = pd.DataFrame(list(c.find(filter, projection)))\n",
    "df"
   ]
  },
  {
   "cell_type": "markdown",
   "metadata": {},
   "source": [
    "### 4. All the companies that had a Valuation Amount of more than 100.000.000 and have been founded before 2010. Retrieve only the `name` and `ipo` fields."
   ]
  },
  {
   "cell_type": "code",
   "execution_count": 11,
   "metadata": {},
   "outputs": [
    {
     "data": {
      "text/plain": [
       "42"
      ]
     },
     "execution_count": 11,
     "metadata": {},
     "output_type": "execute_result"
    }
   ],
   "source": [
    "amount = {\"ipo.valuation_amount\": {'$gt': 100000000}}\n",
    "year = {'founded_year': {'$lt': 2010}}\n",
    "filter = {'$and': [amount, year]}\n",
    "projection = {'name': 1, 'ipo.valuation_amount': 1, '_id': 0}\n",
    "len(list(c.find(filter, projection)))"
   ]
  },
  {
   "cell_type": "code",
   "execution_count": 12,
   "metadata": {},
   "outputs": [
    {
     "data": {
      "text/plain": [
       "[{'name': 'Facebook', 'ipo': {'valuation_amount': 104000000000}},\n",
       " {'name': 'Twitter', 'ipo': {'valuation_amount': 18100000000}},\n",
       " {'name': 'Yelp', 'ipo': {'valuation_amount': 1300000000}},\n",
       " {'name': 'LinkedIn', 'ipo': {'valuation_amount': 9310000000}},\n",
       " {'name': 'Amazon', 'ipo': {'valuation_amount': 100000000000}}]"
      ]
     },
     "execution_count": 12,
     "metadata": {},
     "output_type": "execute_result"
    }
   ],
   "source": [
    "list(c.find(filter, projection))[:5]"
   ]
  },
  {
   "cell_type": "markdown",
   "metadata": {},
   "source": [
    "### 5. All the companies that have less than 1000 employees and have been founded before 2005. Order them by the number of employees and limit the search to 10 companies."
   ]
  },
  {
   "cell_type": "code",
   "execution_count": 13,
   "metadata": {},
   "outputs": [
    {
     "data": {
      "text/plain": [
       "[{'name': 'Infinera Corporation',\n",
       "  'number_of_employees': 974,\n",
       "  'founded_year': 2000},\n",
       " {'name': 'NorthPoint Communications Group',\n",
       "  'number_of_employees': 948,\n",
       "  'founded_year': 1997},\n",
       " {'name': '888 Holdings', 'number_of_employees': 931, 'founded_year': 1997},\n",
       " {'name': 'Forrester Research',\n",
       "  'number_of_employees': 903,\n",
       "  'founded_year': 1983},\n",
       " {'name': 'SonicWALL', 'number_of_employees': 900, 'founded_year': 1991},\n",
       " {'name': 'Webmetrics', 'number_of_employees': 900, 'founded_year': 1999},\n",
       " {'name': 'Cornerstone OnDemand',\n",
       "  'number_of_employees': 881,\n",
       "  'founded_year': 1999},\n",
       " {'name': 'Mozilla', 'number_of_employees': 800, 'founded_year': 1998},\n",
       " {'name': 'Buongiorno', 'number_of_employees': 800, 'founded_year': 1999},\n",
       " {'name': 'Yelp', 'number_of_employees': 800, 'founded_year': 2004}]"
      ]
     },
     "execution_count": 13,
     "metadata": {},
     "output_type": "execute_result"
    }
   ],
   "source": [
    "filter = {'$and': [{'number_of_employees': {'$lt': 1000}, 'founded_year': {'$lt': 2005 }}]}\n",
    "projection = {'name': 1, 'founded_year': 1, 'number_of_employees': 1, '_id': 0}\n",
    "list(c.find(filter, projection).sort('number_of_employees', -1).limit(10))"
   ]
  },
  {
   "cell_type": "markdown",
   "metadata": {},
   "source": [
    "Same thing a bit tidier"
   ]
  },
  {
   "cell_type": "code",
   "execution_count": 14,
   "metadata": {},
   "outputs": [
    {
     "data": {
      "text/plain": [
       "[{'name': 'Infinera Corporation',\n",
       "  'number_of_employees': 974,\n",
       "  'founded_year': 2000},\n",
       " {'name': 'NorthPoint Communications Group',\n",
       "  'number_of_employees': 948,\n",
       "  'founded_year': 1997},\n",
       " {'name': '888 Holdings', 'number_of_employees': 931, 'founded_year': 1997},\n",
       " {'name': 'Forrester Research',\n",
       "  'number_of_employees': 903,\n",
       "  'founded_year': 1983},\n",
       " {'name': 'SonicWALL', 'number_of_employees': 900, 'founded_year': 1991},\n",
       " {'name': 'Webmetrics', 'number_of_employees': 900, 'founded_year': 1999},\n",
       " {'name': 'Cornerstone OnDemand',\n",
       "  'number_of_employees': 881,\n",
       "  'founded_year': 1999},\n",
       " {'name': 'Mozilla', 'number_of_employees': 800, 'founded_year': 1998},\n",
       " {'name': 'Buongiorno', 'number_of_employees': 800, 'founded_year': 1999},\n",
       " {'name': 'Yelp', 'number_of_employees': 800, 'founded_year': 2004}]"
      ]
     },
     "execution_count": 14,
     "metadata": {},
     "output_type": "execute_result"
    }
   ],
   "source": [
    "employees = {'number_of_employees': {'$lt': 1000}}\n",
    "year = {'founded_year': {'$lt': 2005 }}\n",
    "filter = {'$and': [employees, year]}\n",
    "projection = {'name': 1, 'founded_year': 1, 'number_of_employees': 1, '_id': 0}\n",
    "list(c.find(filter, projection).sort('number_of_employees', -1).limit(10))"
   ]
  },
  {
   "cell_type": "markdown",
   "metadata": {},
   "source": [
    "### 6. All the companies that don't include the `partners` field."
   ]
  },
  {
   "cell_type": "code",
   "execution_count": 15,
   "metadata": {},
   "outputs": [
    {
     "data": {
      "text/plain": [
       "[{}]"
      ]
     },
     "execution_count": 15,
     "metadata": {},
     "output_type": "execute_result"
    }
   ],
   "source": [
    "filter = {'partners': {'$exists': False}}\n",
    "projection = {'name': 1, '_id': 0}\n",
    "list(c.find(filter, projection))"
   ]
  },
  {
   "cell_type": "code",
   "execution_count": 16,
   "metadata": {},
   "outputs": [
    {
     "data": {
      "text/plain": [
       "1"
      ]
     },
     "execution_count": 16,
     "metadata": {},
     "output_type": "execute_result"
    }
   ],
   "source": [
    "len(list(c.find(filter, projection)))"
   ]
  },
  {
   "cell_type": "markdown",
   "metadata": {},
   "source": [
    "### 7. All the companies that have a null type of value on the `category_code` field."
   ]
  },
  {
   "cell_type": "code",
   "execution_count": 17,
   "metadata": {},
   "outputs": [
    {
     "data": {
      "text/plain": [
       "2752"
      ]
     },
     "execution_count": 17,
     "metadata": {},
     "output_type": "execute_result"
    }
   ],
   "source": [
    "filter = {'category_code': None}\n",
    "projection = {'name': 1, '_id': 0}\n",
    "len(list(c.find(filter, projection)))"
   ]
  },
  {
   "cell_type": "code",
   "execution_count": 18,
   "metadata": {},
   "outputs": [
    {
     "data": {
      "text/plain": [
       "[{'name': 'Collective'},\n",
       " {'name': 'Snimmer'},\n",
       " {'name': 'KoolIM'},\n",
       " {'name': 'Level9 Media'},\n",
       " {'name': 'VidKing'}]"
      ]
     },
     "execution_count": 18,
     "metadata": {},
     "output_type": "execute_result"
    }
   ],
   "source": [
    "list(c.find(filter, projection))[:5]"
   ]
  },
  {
   "cell_type": "markdown",
   "metadata": {},
   "source": [
    "### 8. All the companies that have at least 100 employees but less than 1000. Retrieve only the `name` and `number of employees` fields."
   ]
  },
  {
   "cell_type": "code",
   "execution_count": 19,
   "metadata": {},
   "outputs": [
    {
     "data": {
      "text/plain": [
       "992"
      ]
     },
     "execution_count": 19,
     "metadata": {},
     "output_type": "execute_result"
    }
   ],
   "source": [
    "filter = {'$and': [{'number_of_employees': {'$lt': 1000}, 'number_of_employees': {'$gt': 100 }}]}\n",
    "projection = {'name': 1, 'number_of_employees': 1, '_id': 0}\n",
    "len(list(c.find(filter, projection)))"
   ]
  },
  {
   "cell_type": "code",
   "execution_count": 20,
   "metadata": {},
   "outputs": [
    {
     "data": {
      "text/plain": [
       "[{'name': 'AdventNet', 'number_of_employees': 600},\n",
       " {'name': 'Zoho', 'number_of_employees': 1600},\n",
       " {'name': 'Facebook', 'number_of_employees': 5299},\n",
       " {'name': 'Twitter', 'number_of_employees': 1300},\n",
       " {'name': 'eBay', 'number_of_employees': 15000}]"
      ]
     },
     "execution_count": 20,
     "metadata": {},
     "output_type": "execute_result"
    }
   ],
   "source": [
    "list(c.find(filter, projection))[:5]"
   ]
  },
  {
   "cell_type": "markdown",
   "metadata": {},
   "source": [
    "### 9. Order all the companies by their IPO price in a descending order."
   ]
  },
  {
   "cell_type": "code",
   "execution_count": 21,
   "metadata": {},
   "outputs": [
    {
     "data": {
      "text/plain": [
       "[{'name': 'GREE', 'ipo': {'valuation_amount': 108960000000}},\n",
       " {'name': 'Facebook', 'ipo': {'valuation_amount': 104000000000}},\n",
       " {'name': 'Amazon', 'ipo': {'valuation_amount': 100000000000}},\n",
       " {'name': 'Twitter', 'ipo': {'valuation_amount': 18100000000}},\n",
       " {'name': 'Groupon', 'ipo': {'valuation_amount': 12800000000}}]"
      ]
     },
     "execution_count": 21,
     "metadata": {},
     "output_type": "execute_result"
    }
   ],
   "source": [
    "filter = {}\n",
    "projection = {'name': 1, 'ipo.valuation_amount': 1, '_id': 0}\n",
    "list(c.find(filter, projection).sort('ipo.valuation_amount', -1))[:5]"
   ]
  },
  {
   "cell_type": "markdown",
   "metadata": {},
   "source": [
    "### 10. Retrieve the 10 companies with more employees, order by the `number of employees`"
   ]
  },
  {
   "cell_type": "code",
   "execution_count": 22,
   "metadata": {},
   "outputs": [
    {
     "data": {
      "text/plain": [
       "[{'name': 'Siemens', 'number_of_employees': 405000},\n",
       " {'name': 'IBM', 'number_of_employees': 388000},\n",
       " {'name': 'Toyota', 'number_of_employees': 320000},\n",
       " {'name': 'PayPal', 'number_of_employees': 300000},\n",
       " {'name': 'Nippon Telegraph and Telephone Corporation',\n",
       "  'number_of_employees': 227000},\n",
       " {'name': 'Samsung Electronics', 'number_of_employees': 221726},\n",
       " {'name': 'Accenture', 'number_of_employees': 205000},\n",
       " {'name': 'Tata Consultancy Services', 'number_of_employees': 200300},\n",
       " {'name': 'Flextronics International', 'number_of_employees': 200000},\n",
       " {'name': 'Safeway', 'number_of_employees': 186000}]"
      ]
     },
     "execution_count": 22,
     "metadata": {},
     "output_type": "execute_result"
    }
   ],
   "source": [
    "projection = {'name': 1, 'number_of_employees': 1, '_id': 0}\n",
    "list(c.find({}, projection).sort('number_of_employees', -1).limit(10))"
   ]
  },
  {
   "cell_type": "markdown",
   "metadata": {},
   "source": [
    "### 11. All the companies founded on the second semester of the year. Limit your search to 1000 companies."
   ]
  },
  {
   "cell_type": "code",
   "execution_count": 23,
   "metadata": {},
   "outputs": [
    {
     "data": {
      "text/plain": [
       "[{'name': 'Wetpaint', 'founded_month': 10},\n",
       " {'name': 'Zoho', 'founded_month': 9},\n",
       " {'name': 'Digg', 'founded_month': 10},\n",
       " {'name': 'Omnidrive', 'founded_month': 11},\n",
       " {'name': 'eBay', 'founded_month': 9}]"
      ]
     },
     "execution_count": 23,
     "metadata": {},
     "output_type": "execute_result"
    }
   ],
   "source": [
    "filter = {'founded_month': {'$in': list(range(7,13))}} \n",
    "projection = {'name': 1, 'founded_month': 1, '_id': 0}\n",
    "list(c.find(filter, projection).limit(1000))[:5]"
   ]
  },
  {
   "cell_type": "markdown",
   "metadata": {},
   "source": [
    "### 12. All the companies founded before 2000 that have an acquisition amount of more than 10.000.00"
   ]
  },
  {
   "cell_type": "code",
   "execution_count": 24,
   "metadata": {},
   "outputs": [
    {
     "data": {
      "text/plain": [
       "224"
      ]
     },
     "execution_count": 24,
     "metadata": {},
     "output_type": "execute_result"
    }
   ],
   "source": [
    "year = {'founded_year': {'$lt': 2000}}\n",
    "amount = {'acquisition.price_amount': {'$gt': 1000000} }\n",
    "filter = {'$and': [year, amount]}\n",
    "projection = {'name': 1, 'acquisition.price_amount': 1, 'founded_year': 1, '_id': 0}\n",
    "len(list(c.find(filter, projection)))"
   ]
  },
  {
   "cell_type": "code",
   "execution_count": 25,
   "metadata": {},
   "outputs": [
    {
     "data": {
      "text/plain": [
       "[{'name': 'Postini',\n",
       "  'founded_year': 1999,\n",
       "  'acquisition': {'price_amount': 625000000}},\n",
       " {'name': 'SideStep',\n",
       "  'founded_year': 1999,\n",
       "  'acquisition': {'price_amount': 180000000}},\n",
       " {'name': 'Recipezaar',\n",
       "  'founded_year': 1999,\n",
       "  'acquisition': {'price_amount': 25000000}},\n",
       " {'name': 'Cyworld',\n",
       "  'founded_year': 1999,\n",
       "  'acquisition': {'price_amount': 7140000}},\n",
       " {'name': 'PayPal',\n",
       "  'founded_year': 1998,\n",
       "  'acquisition': {'price_amount': 1500000000}}]"
      ]
     },
     "execution_count": 25,
     "metadata": {},
     "output_type": "execute_result"
    }
   ],
   "source": [
    "list(c.find(filter, projection))[:5]"
   ]
  },
  {
   "cell_type": "markdown",
   "metadata": {},
   "source": [
    "### 13. All the companies that have been acquired after 2010, order by the acquisition amount, and retrieve only their `name` and `acquisition` field."
   ]
  },
  {
   "cell_type": "code",
   "execution_count": 26,
   "metadata": {},
   "outputs": [
    {
     "data": {
      "text/plain": [
       "736"
      ]
     },
     "execution_count": 26,
     "metadata": {},
     "output_type": "execute_result"
    }
   ],
   "source": [
    "filter = {'acquisition.acquired_year': {'$gt': 2010}}\n",
    "projection = {'name': 1, 'acquisition': 1, '_id': 0}\n",
    "len(list(c.find(filter, projection).sort('acquisition.price_amount', -1)))"
   ]
  },
  {
   "cell_type": "code",
   "execution_count": 27,
   "metadata": {},
   "outputs": [
    {
     "data": {
      "text/plain": [
       "[{'name': 'T-Mobile',\n",
       "  'acquisition': {'price_amount': 39000000000,\n",
       "   'price_currency_code': 'USD',\n",
       "   'term_code': None,\n",
       "   'source_url': 'http://techcrunch.com/2011/03/20/in-the-race-for-more-spectrum-att-is-acquiring-t-mobile-for-39-billion/',\n",
       "   'source_description': 'In The Race For More Spectrum, AT&T Is Acquiring T-Mobile For $39 Billion',\n",
       "   'acquired_year': 2011,\n",
       "   'acquired_month': 3,\n",
       "   'acquired_day': 20,\n",
       "   'acquiring_company': {'name': 'AT&T', 'permalink': 'at-t'}}},\n",
       " {'name': 'Goodrich Corporation',\n",
       "  'acquisition': {'price_amount': 18400000000,\n",
       "   'price_currency_code': 'USD',\n",
       "   'term_code': None,\n",
       "   'source_url': 'http://www.masshightech.com/stories/2011/09/19/daily37-UTC-shells-out-184-billion-for-Goodrich.html',\n",
       "   'source_description': 'UTC shells out $18.4 billion for Goodrich',\n",
       "   'acquired_year': 2011,\n",
       "   'acquired_month': 9,\n",
       "   'acquired_day': 22,\n",
       "   'acquiring_company': {'name': 'United Technologies',\n",
       "    'permalink': 'united-technologies'}}}]"
      ]
     },
     "execution_count": 27,
     "metadata": {},
     "output_type": "execute_result"
    }
   ],
   "source": [
    "list(c.find(filter, projection).sort('acquisition.price_amount', -1))[:2] "
   ]
  },
  {
   "cell_type": "markdown",
   "metadata": {},
   "source": [
    "### 14. Order the companies by their `founded year`, retrieving only their `name` and `founded year`."
   ]
  },
  {
   "cell_type": "code",
   "execution_count": 28,
   "metadata": {},
   "outputs": [
    {
     "data": {
      "text/plain": [
       "[{'name': 'Alstrasoft', 'founded_year': 1800},\n",
       " {'name': 'SmallWorlds', 'founded_year': 1800},\n",
       " {'name': 'US Army', 'founded_year': 1800},\n",
       " {'name': 'DuPont', 'founded_year': 1802},\n",
       " {'name': 'Bachmann Industries', 'founded_year': 1833},\n",
       " {'name': 'McKesson', 'founded_year': 1833},\n",
       " {'name': 'Bertelsmann', 'founded_year': 1835},\n",
       " {'name': 'Accuity', 'founded_year': 1836},\n",
       " {'name': 'CENTRA', 'founded_year': 1839},\n",
       " {'name': 'VideoSurf', 'founded_year': 1840}]"
      ]
     },
     "execution_count": 28,
     "metadata": {},
     "output_type": "execute_result"
    }
   ],
   "source": [
    "filter = {'founded_year': {'$ne': None}}\n",
    "projection = {'name': 1, 'founded_year': 1, '_id': 0}\n",
    "list(c.find(filter, projection).sort('founded_year'))[:10]"
   ]
  },
  {
   "cell_type": "markdown",
   "metadata": {},
   "source": [
    "### 15. All the companies that have been founded on the first seven days of the month, including the seventh. Sort them by their `acquisition price` in a descending order. Limit the search to 10 documents."
   ]
  },
  {
   "cell_type": "code",
   "execution_count": 29,
   "metadata": {},
   "outputs": [
    {
     "data": {
      "text/plain": [
       "[{'name': 'Netscape',\n",
       "  'founded_day': 4,\n",
       "  'acquisition': {'price_amount': 4200000000}},\n",
       " {'name': 'PayPal',\n",
       "  'founded_day': 1,\n",
       "  'acquisition': {'price_amount': 1500000000}},\n",
       " {'name': 'Zappos',\n",
       "  'founded_day': 1,\n",
       "  'acquisition': {'price_amount': 1200000000}},\n",
       " {'name': 'Alibaba',\n",
       "  'founded_day': 1,\n",
       "  'acquisition': {'price_amount': 1000000000}},\n",
       " {'name': 'Postini',\n",
       "  'founded_day': 2,\n",
       "  'acquisition': {'price_amount': 625000000}},\n",
       " {'name': 'Danger',\n",
       "  'founded_day': 1,\n",
       "  'acquisition': {'price_amount': 500000000}},\n",
       " {'name': 'Clearwell Systems',\n",
       "  'founded_day': 6,\n",
       "  'acquisition': {'price_amount': 410000000}},\n",
       " {'name': 'PrimeSense',\n",
       "  'founded_day': 1,\n",
       "  'acquisition': {'price_amount': 345000000}},\n",
       " {'name': 'Amobee',\n",
       "  'founded_day': 1,\n",
       "  'acquisition': {'price_amount': 321000000}},\n",
       " {'name': 'BlueLithium',\n",
       "  'founded_day': 1,\n",
       "  'acquisition': {'price_amount': 300000000}}]"
      ]
     },
     "execution_count": 29,
     "metadata": {},
     "output_type": "execute_result"
    }
   ],
   "source": [
    "filter = {'founded_day': {'$lte': 7}}\n",
    "projection = {'name': 1, 'founded_day': 1, 'acquisition.price_amount': 1, '_id': 0}\n",
    "list(c.find(filter, projection).sort('acquisition.price_amount', -1).limit(10))"
   ]
  },
  {
   "cell_type": "markdown",
   "metadata": {},
   "source": [
    "### 16. All the companies on the 'web' `category` that have more than 4000 employees. Sort them by the amount of employees in ascending order."
   ]
  },
  {
   "cell_type": "code",
   "execution_count": 30,
   "metadata": {},
   "outputs": [
    {
     "data": {
      "text/plain": [
       "9"
      ]
     },
     "execution_count": 30,
     "metadata": {},
     "output_type": "execute_result"
    }
   ],
   "source": [
    "category = {'category_code': 'web'}\n",
    "employees = {'number_of_employees':{'$gt': 4000}}\n",
    "filter = {'$and': [category, employees]}\n",
    "projection = {'name': 1, 'number_of_employees': 1, '_id': 0}\n",
    "len(list(c.find(filter, projection).sort('number_of_employees')))"
   ]
  },
  {
   "cell_type": "code",
   "execution_count": 31,
   "metadata": {},
   "outputs": [
    {
     "data": {
      "text/plain": [
       "[{'name': 'Expedia', 'number_of_employees': 4400},\n",
       " {'name': 'AOL', 'number_of_employees': 8000},\n",
       " {'name': 'Webkinz', 'number_of_employees': 8657},\n",
       " {'name': 'Rakuten', 'number_of_employees': 10000},\n",
       " {'name': 'Los Angeles Times Media Group', 'number_of_employees': 10000},\n",
       " {'name': 'Groupon', 'number_of_employees': 10000},\n",
       " {'name': 'Yahoo!', 'number_of_employees': 13600},\n",
       " {'name': 'eBay', 'number_of_employees': 15000},\n",
       " {'name': 'Experian', 'number_of_employees': 15500}]"
      ]
     },
     "execution_count": 31,
     "metadata": {},
     "output_type": "execute_result"
    }
   ],
   "source": [
    "list(c.find(filter, projection).sort('number_of_employees'))"
   ]
  },
  {
   "cell_type": "markdown",
   "metadata": {},
   "source": [
    "### 17. All the companies whose acquisition amount is more than 10.000.000, and currency is 'EUR'."
   ]
  },
  {
   "cell_type": "code",
   "execution_count": 32,
   "metadata": {},
   "outputs": [
    {
     "data": {
      "text/plain": [
       "7"
      ]
     },
     "execution_count": 32,
     "metadata": {},
     "output_type": "execute_result"
    }
   ],
   "source": [
    "amount = {'acquisition.price_amount': {'$gt': 10000000}}\n",
    "eur = {'acquisition.price_currency_code': 'EUR'}\n",
    "filter = {'$and': [amount, eur]} \n",
    "projection = {'name': 1, 'acquisition.price_amount': 1, '_id': 0}\n",
    "len(list(c.find(filter, projection)))"
   ]
  },
  {
   "cell_type": "code",
   "execution_count": 33,
   "metadata": {},
   "outputs": [
    {
     "data": {
      "text/plain": [
       "[{'name': 'ZYB', 'acquisition': {'price_amount': 31500000}},\n",
       " {'name': 'Apertio', 'acquisition': {'price_amount': 140000000}},\n",
       " {'name': 'Greenfield Online', 'acquisition': {'price_amount': 40000000}},\n",
       " {'name': 'Webedia', 'acquisition': {'price_amount': 70000000}},\n",
       " {'name': 'Wayfinder', 'acquisition': {'price_amount': 24000000}},\n",
       " {'name': 'Tuenti Technologies', 'acquisition': {'price_amount': 70000000}},\n",
       " {'name': 'BioMed Central', 'acquisition': {'price_amount': 43400000}}]"
      ]
     },
     "execution_count": 33,
     "metadata": {},
     "output_type": "execute_result"
    }
   ],
   "source": [
    "list(c.find(filter, projection))"
   ]
  },
  {
   "cell_type": "markdown",
   "metadata": {},
   "source": [
    "### 18. All the companies that have been acquired on the first trimester of the year. Limit the search to 10 companies, and retrieve only their `name` and `acquisition` fields."
   ]
  },
  {
   "cell_type": "code",
   "execution_count": 34,
   "metadata": {},
   "outputs": [
    {
     "data": {
      "text/plain": [
       "[{'name': 'Kyte',\n",
       "  'acquisition': {'price_amount': None,\n",
       "   'price_currency_code': 'USD',\n",
       "   'term_code': None,\n",
       "   'source_url': 'http://techcrunch.com/2011/01/31/exclusive-kit-digital-acquires-kickapps-kewego-and-kyte-for-77-2-million/',\n",
       "   'source_description': 'KIT digital Acquires KickApps, Kewego AND Kyte For $77.2 Million',\n",
       "   'acquired_year': 2011,\n",
       "   'acquired_month': 1,\n",
       "   'acquired_day': 31,\n",
       "   'acquiring_company': {'name': 'KIT digital', 'permalink': 'kit-digital'}}},\n",
       " {'name': 'NetRatings',\n",
       "  'acquisition': {'price_amount': 327000000,\n",
       "   'price_currency_code': 'USD',\n",
       "   'term_code': 'cash',\n",
       "   'source_url': 'http://login.vnuemedia.com/hr/login/login_subscribe.jsp?id=0oqDem1gYIfIclz9i2%2Ffqj5NxCp2AC5DPbVnyT2da8GyV2mXjasabE128n69OrmcAh52%2FGE3pSG%2F%0AEKRYD9vh9EhrJrxukmUzh532fSMTZXL42gwPB80UWVtF1NwJ5UZSM%2BCkLU1mpYBoHFgiH%2Fi0f6Ax%0A9yMIVxt47t%2BHamhEQ0nkOEK24L',\n",
       "   'source_description': 'Nielsen buys rest of NetRatings',\n",
       "   'acquired_year': 2007,\n",
       "   'acquired_month': 2,\n",
       "   'acquired_day': None,\n",
       "   'acquiring_company': {'name': 'Nielsen', 'permalink': 'nielsen'}}},\n",
       " {'name': 'blogTV',\n",
       "  'acquisition': {'price_amount': None,\n",
       "   'price_currency_code': 'USD',\n",
       "   'term_code': None,\n",
       "   'source_url': 'http://techcrunch.com/2013/03/13/younow-buys-blogtv/',\n",
       "   'source_description': 'Live Social Video Network YouNow Acquires Streaming Service BlogTV',\n",
       "   'acquired_year': 2013,\n",
       "   'acquired_month': 3,\n",
       "   'acquired_day': 13,\n",
       "   'acquiring_company': {'name': 'YouNow', 'permalink': 'younow'}}},\n",
       " {'name': 'Livestream',\n",
       "  'acquisition': {'price_amount': None,\n",
       "   'price_currency_code': 'USD',\n",
       "   'term_code': 'cash_and_stock',\n",
       "   'source_url': '',\n",
       "   'source_description': 'company',\n",
       "   'acquired_year': 2008,\n",
       "   'acquired_month': 1,\n",
       "   'acquired_day': 1,\n",
       "   'acquiring_company': {'name': 'Adviqo', 'permalink': 'adviqo'}}},\n",
       " {'name': 'iContact',\n",
       "  'acquisition': {'price_amount': 169000000,\n",
       "   'price_currency_code': 'USD',\n",
       "   'term_code': 'cash_and_stock',\n",
       "   'source_url': 'http://techcrunch.com/2012/02/28/vocus-buys-email-marketing-company-icontact-for-169-million/',\n",
       "   'source_description': 'Vocus Buys Email Marketing Company iContact For $169 Million',\n",
       "   'acquired_year': 2012,\n",
       "   'acquired_month': 2,\n",
       "   'acquired_day': 28,\n",
       "   'acquiring_company': {'name': 'Vocus', 'permalink': 'vocus'}}},\n",
       " {'name': 'Coghead',\n",
       "  'acquisition': {'price_amount': None,\n",
       "   'price_currency_code': 'USD',\n",
       "   'term_code': None,\n",
       "   'source_url': 'http://www.techcrunch.com/2009/02/19/sap-acquires-cogheads-technology-as-it-looks-towards-the-cloud/',\n",
       "   'source_description': 'SAP Acquires Cogheadâ€™s Technology As It Looks Towards The Cloud',\n",
       "   'acquired_year': 2009,\n",
       "   'acquired_month': 2,\n",
       "   'acquired_day': 19,\n",
       "   'acquiring_company': {'name': 'SAP', 'permalink': 'sap'}}},\n",
       " {'name': 'Dailymotion',\n",
       "  'acquisition': {'price_amount': 168000000,\n",
       "   'price_currency_code': 'USD',\n",
       "   'term_code': None,\n",
       "   'source_url': 'http://techcrunch.com/2013/02/22/orange-acquired-dailymotion-for-168-million-by-buying-out-the-remaining-51-stake/',\n",
       "   'source_description': 'Orange Acquired Dailymotion For $168 Million By Buying Out Remaining 51% Stake [Update: Orange Confirms]',\n",
       "   'acquired_year': 2013,\n",
       "   'acquired_month': 2,\n",
       "   'acquired_day': 22,\n",
       "   'acquiring_company': {'name': 'Orange', 'permalink': 'orange'}}},\n",
       " {'name': 'Netvibes',\n",
       "  'acquisition': {'price_amount': None,\n",
       "   'price_currency_code': 'USD',\n",
       "   'term_code': None,\n",
       "   'source_url': 'http://www.marketwatch.com/story/dassault-systemes-acquires-netvibes-2012-02-09',\n",
       "   'source_description': 'Dassault Systemes Acquires Netvibes',\n",
       "   'acquired_year': 2012,\n",
       "   'acquired_month': 2,\n",
       "   'acquired_day': 9,\n",
       "   'acquiring_company': {'name': 'Dassault Systemes',\n",
       "    'permalink': 'dassault'}}},\n",
       " {'name': 'Flickr',\n",
       "  'acquisition': {'price_amount': None,\n",
       "   'price_currency_code': 'USD',\n",
       "   'term_code': 'cash_and_stock',\n",
       "   'source_url': 'http://news.cnet.com/Yahoo-buys-photo-sharing-site-Flickr/2100-1038_3-5627640.html?tag=mncol;txt',\n",
       "   'source_description': 'CNET',\n",
       "   'acquired_year': 2005,\n",
       "   'acquired_month': 3,\n",
       "   'acquired_day': None,\n",
       "   'acquiring_company': {'name': 'Yahoo!', 'permalink': 'yahoo'}}},\n",
       " {'name': 'BabyCenter',\n",
       "  'acquisition': {'price_amount': None,\n",
       "   'price_currency_code': 'USD',\n",
       "   'term_code': None,\n",
       "   'source_url': 'http://www.investor.jnj.com/releasedetail.cfm?releaseid=63836',\n",
       "   'source_description': 'Johnson & Johnson Acquires BabyCenter From eToys, Inc. Leading Online Destination for Parents Plans for Continued Expansion of Operations',\n",
       "   'acquired_year': 2001,\n",
       "   'acquired_month': 3,\n",
       "   'acquired_day': 2,\n",
       "   'acquiring_company': {'name': 'Johnson & Johnson',\n",
       "    'permalink': 'johnson-johnson'}}}]"
      ]
     },
     "execution_count": 34,
     "metadata": {},
     "output_type": "execute_result"
    }
   ],
   "source": [
    "filter = {'acquisition.acquired_month': {'$in': [1,2,3]}}\n",
    "projection = {'name': 1, 'acquisition': 1, '_id': 0}\n",
    "list(c.find(filter, projection).limit(10))"
   ]
  },
  {
   "cell_type": "markdown",
   "metadata": {},
   "source": [
    "# Bonus\n",
    "### 19. All the companies that have been founded between 2000 and 2010, but have not been acquired before 2011."
   ]
  },
  {
   "cell_type": "code",
   "execution_count": 35,
   "metadata": {},
   "outputs": [
    {
     "data": {
      "text/plain": [
       "485"
      ]
     },
     "execution_count": 35,
     "metadata": {},
     "output_type": "execute_result"
    }
   ],
   "source": [
    "firstyear = {'founded_year': {'$gte': 2000}}\n",
    "lastyear = {'founded_year': {'$lt': 2010}}\n",
    "acquiredyear = {'acquisition.acquired_year': {'$gte': 2011}}\n",
    "filter = {\"$and\": [firstyear, lastyear, acquiredyear]}\n",
    "projection = {'name': 1, 'founded_year': 1, 'acquisition.acquired_year': 1, '_id': 0}\n",
    "len(list(c.find(filter, projection)))"
   ]
  },
  {
   "cell_type": "code",
   "execution_count": 36,
   "metadata": {},
   "outputs": [
    {
     "data": {
      "text/plain": [
       "[{'name': 'Wetpaint',\n",
       "  'founded_year': 2005,\n",
       "  'acquisition': {'acquired_year': 2013}},\n",
       " {'name': 'Digg',\n",
       "  'founded_year': 2004,\n",
       "  'acquisition': {'acquired_year': 2012}},\n",
       " {'name': 'Geni',\n",
       "  'founded_year': 2006,\n",
       "  'acquisition': {'acquired_year': 2012}},\n",
       " {'name': 'Kyte',\n",
       "  'founded_year': 2006,\n",
       "  'acquisition': {'acquired_year': 2011}},\n",
       " {'name': 'Jingle Networks',\n",
       "  'founded_year': 2005,\n",
       "  'acquisition': {'acquired_year': 2011}}]"
      ]
     },
     "execution_count": 36,
     "metadata": {},
     "output_type": "execute_result"
    }
   ],
   "source": [
    "list(c.find(filter, projection))[:5]"
   ]
  },
  {
   "cell_type": "markdown",
   "metadata": {},
   "source": [
    "### BONUSASSO 20. All the companies that have been 'deadpooled' after the third year. \n",
    "Tip: You should use a new operator. Try to search WHERE the solution is. "
   ]
  },
  {
   "cell_type": "code",
   "execution_count": 37,
   "metadata": {},
   "outputs": [
    {
     "data": {
      "text/plain": [
       "437"
      ]
     },
     "execution_count": 37,
     "metadata": {},
     "output_type": "execute_result"
    }
   ],
   "source": [
    "deadpool = {'$where': 'this.deadpooled_year > (this.founded_year + 3)'}\n",
    "foundedyear = {'founded_year': {'$ne': None}}\n",
    "filter = {'$and': [deadpool, foundedyear]}\n",
    "projection = {'name': 1, 'deadpooled_year': 1, 'founded_year': 1, '_id': 0}\n",
    "len(list(c.find(filter, projection)))"
   ]
  },
  {
   "cell_type": "code",
   "execution_count": 38,
   "metadata": {},
   "outputs": [
    {
     "data": {
      "text/plain": [
       "[{'name': 'Babelgum', 'founded_year': 2007, 'deadpooled_year': 2013},\n",
       " {'name': 'Thoof', 'founded_year': 2006, 'deadpooled_year': 2013},\n",
       " {'name': 'Wesabe', 'founded_year': 2005, 'deadpooled_year': 2010},\n",
       " {'name': 'Stickam', 'founded_year': 2006, 'deadpooled_year': 2013},\n",
       " {'name': 'AllPeers', 'founded_year': 2004, 'deadpooled_year': 2008},\n",
       " {'name': 'EQO', 'founded_year': 2006, 'deadpooled_year': 2012},\n",
       " {'name': 'AllofMP3', 'founded_year': 2000, 'deadpooled_year': 2007},\n",
       " {'name': 'SellABand', 'founded_year': 2006, 'deadpooled_year': 2010},\n",
       " {'name': 'Zlio', 'founded_year': 2005, 'deadpooled_year': 2011},\n",
       " {'name': 'Jaiku', 'founded_year': 2006, 'deadpooled_year': 2012},\n",
       " {'name': 'Coghead', 'founded_year': 2003, 'deadpooled_year': 2009},\n",
       " {'name': 'Swivel', 'founded_year': 2005, 'deadpooled_year': 2010},\n",
       " {'name': 'Slide', 'founded_year': 2005, 'deadpooled_year': 2011},\n",
       " {'name': 'Sway', 'founded_year': 2004, 'deadpooled_year': 2012},\n",
       " {'name': 'coComment', 'founded_year': 2006, 'deadpooled_year': 2012},\n",
       " {'name': 'Hotelicopter', 'founded_year': 2006, 'deadpooled_year': 2012},\n",
       " {'name': 'Ujogo', 'founded_year': 2007, 'deadpooled_year': 2012},\n",
       " {'name': 'PeerMe', 'founded_year': 2004, 'deadpooled_year': 2009},\n",
       " {'name': 'Tangler', 'founded_year': 2006, 'deadpooled_year': 2012},\n",
       " {'name': 'TalkPlus', 'founded_year': 2004, 'deadpooled_year': 2008},\n",
       " {'name': 'PermissionTV', 'founded_year': 2005, 'deadpooled_year': 2012},\n",
       " {'name': 'Nirvanix', 'founded_year': 2007, 'deadpooled_year': 2013},\n",
       " {'name': 'Millsberry', 'founded_year': 2004, 'deadpooled_year': 2011},\n",
       " {'name': 'Revver', 'founded_year': 2004, 'deadpooled_year': 2011},\n",
       " {'name': 'Sampa', 'founded_year': 2005, 'deadpooled_year': 2009},\n",
       " {'name': 'DanceJam', 'founded_year': 2007, 'deadpooled_year': 2011},\n",
       " {'name': 'Brightkite', 'founded_year': 2007, 'deadpooled_year': 2011},\n",
       " {'name': 'Zango', 'founded_year': 1999, 'deadpooled_year': 2009},\n",
       " {'name': 'BitPass', 'founded_year': 2002, 'deadpooled_year': 2012},\n",
       " {'name': 'SpiralFrog', 'founded_year': 2004, 'deadpooled_year': 2009},\n",
       " {'name': 'Multiply', 'founded_year': 2003, 'deadpooled_year': 2013},\n",
       " {'name': 'RampedMedia', 'founded_year': 2006, 'deadpooled_year': 2013},\n",
       " {'name': 'Nemedia', 'founded_year': 2002, 'deadpooled_year': 2013},\n",
       " {'name': 'Trutap', 'founded_year': 1989, 'deadpooled_year': 2009},\n",
       " {'name': 'ITema', 'founded_year': 2007, 'deadpooled_year': 2011},\n",
       " {'name': 'Orgoo', 'founded_year': 2005, 'deadpooled_year': 2013},\n",
       " {'name': 'RatePoint', 'founded_year': 2006, 'deadpooled_year': 2012},\n",
       " {'name': 'MuseStorm', 'founded_year': 2005, 'deadpooled_year': 2010},\n",
       " {'name': 'Eons', 'founded_year': 2005, 'deadpooled_year': 2012},\n",
       " {'name': 'Cuil', 'founded_year': 2005, 'deadpooled_year': 2010},\n",
       " {'name': 'mEgo', 'founded_year': 2005, 'deadpooled_year': 2012},\n",
       " {'name': 'StoryBlender', 'founded_year': 2005, 'deadpooled_year': 2012},\n",
       " {'name': 'BroadClip', 'founded_year': 2006, 'deadpooled_year': 2012},\n",
       " {'name': 'Goojet', 'founded_year': 2006, 'deadpooled_year': 2012},\n",
       " {'name': 'Notemarks', 'founded_year': 2003, 'deadpooled_year': 2009},\n",
       " {'name': 'mPortico', 'founded_year': 2006, 'deadpooled_year': 2012},\n",
       " {'name': 'Grouply', 'founded_year': 2006, 'deadpooled_year': 2012},\n",
       " {'name': 'PlanHQ', 'founded_year': 2007, 'deadpooled_year': 2013},\n",
       " {'name': 'Youlicit', 'founded_year': 2006, 'deadpooled_year': 2010},\n",
       " {'name': 'Mixaloo', 'founded_year': 2007, 'deadpooled_year': 2013}]"
      ]
     },
     "execution_count": 38,
     "metadata": {},
     "output_type": "execute_result"
    }
   ],
   "source": [
    "list(c.find(filter, projection))[:50]"
   ]
  }
 ],
 "metadata": {
  "kernelspec": {
   "display_name": "base",
   "language": "python",
   "name": "python3"
  },
  "language_info": {
   "codemirror_mode": {
    "name": "ipython",
    "version": 3
   },
   "file_extension": ".py",
   "mimetype": "text/x-python",
   "name": "python",
   "nbconvert_exporter": "python",
   "pygments_lexer": "ipython3",
   "version": "3.12.4"
  }
 },
 "nbformat": 4,
 "nbformat_minor": 2
}
