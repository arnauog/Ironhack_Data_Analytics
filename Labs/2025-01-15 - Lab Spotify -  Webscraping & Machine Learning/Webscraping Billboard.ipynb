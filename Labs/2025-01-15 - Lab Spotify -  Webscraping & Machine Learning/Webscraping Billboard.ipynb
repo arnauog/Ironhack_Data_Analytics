{
 "cells": [
  {
   "cell_type": "markdown",
   "metadata": {},
   "source": [
    "##### This Lab is a bit different: instead of filling a document, you will have to create one of your own! In this lab, you will have to create a Jupyter Notebook where you scrap everytime is executed the updated Billboard Hot 100 songs (URL) and return a dataframe with 100 rows (duh) and the following columns:\n",
    "\n",
    "Song\n",
    "\n",
    "Artist\n",
    "\n",
    "Last Week Rank\n",
    "\n",
    "Weeks On Chart\n",
    "\n",
    "##### It will also be nice if the document presented is in a function. Even nicer if it is a .py file."
   ]
  },
  {
   "cell_type": "markdown",
   "metadata": {},
   "source": [
    "# Webscraping"
   ]
  },
  {
   "cell_type": "code",
   "execution_count": 1,
   "metadata": {},
   "outputs": [],
   "source": [
    "from bs4 import BeautifulSoup\n",
    "import requests\n",
    "import pandas as pd\n",
    "import sys\n",
    "import random"
   ]
  },
  {
   "cell_type": "code",
   "execution_count": 2,
   "metadata": {},
   "outputs": [
    {
     "data": {
      "text/plain": [
       "<Response [200]>"
      ]
     },
     "execution_count": 2,
     "metadata": {},
     "output_type": "execute_result"
    }
   ],
   "source": [
    "url = 'https://www.billboard.com/charts/hot-100/'\n",
    "requests.get(url)"
   ]
  },
  {
   "cell_type": "code",
   "execution_count": 3,
   "metadata": {},
   "outputs": [],
   "source": [
    "response = requests.get(url).content\n",
    "soup = BeautifulSoup(response, \"html.parser\")"
   ]
  },
  {
   "cell_type": "markdown",
   "metadata": {},
   "source": [
    "## Function"
   ]
  },
  {
   "cell_type": "code",
   "execution_count": 4,
   "metadata": {},
   "outputs": [],
   "source": [
    "def billboard100 (url):\n",
    "    from bs4 import BeautifulSoup\n",
    "    import requests\n",
    "    import pandas as pd\n",
    "    import numpy as np\n",
    "    \n",
    "    link = \"url\"\n",
    "    response = requests.get(url).content\n",
    "    soup = BeautifulSoup(response, \"html.parser\")\n",
    "    \n",
    "    songs = soup.select(\"li h3\", class_=\"c-title  a-no-trucate a-font-primary-bold-s u-letter-spacing-0021 lrv-u-font-size-18@tablet lrv-u-font-size-16 u-line-height-125 u-line-height-normal@mobile-max a-truncate-ellipsis u-max-width-330 u-max-width-230@tablet-only\")\n",
    "    songlist = []\n",
    "    for i in songs[:100]:\n",
    "        songlist.append(i.get_text().lstrip().rstrip())\n",
    "    \n",
    "    artists = soup.select('div ul li ul li span', class_=\"c-label  a-no-trucate a-font-primary-s lrv-u-font-size-14@mobile-max u-line-height-normal@mobile-max u-letter-spacing-0021 lrv-u-display-block a-truncate-ellipsis-2line u-max-width-330 u-max-width-230@tablet-only\")\n",
    "    artists_list = []\n",
    "    for i in artists[::7]:\n",
    "        artists_list.append(i.get_text().lstrip().rstrip())\n",
    "\n",
    "    lastweek = soup.select('li ul li span', class_=\"c-label  a-font-primary-m lrv-u-padding-tb-050@mobile-max\")\n",
    "    list_lastweek = []\n",
    "    for i in lastweek[1::7]:\n",
    "        list_lastweek.append(i.get_text().lstrip().rstrip())\n",
    "    wks_on_chart = []\n",
    "    for i in lastweek[3::7]:\n",
    "        wks_on_chart.append(i.get_text().lstrip().rstrip())\n",
    "    \n",
    "    dfbillboard = pd.DataFrame({'song': songlist, 'artist': artists_list, 'last_week_rank': list_lastweek, 'weeks_on_chart': wks_on_chart}).astype({'weeks_on_chart': int})\n",
    "    dfbillboard['last_week_rank'] = np.where((dfbillboard['last_week_rank'] == '-'), np.nan, dfbillboard['last_week_rank'])\n",
    "    dfbillboard['last_week_rank'] = dfbillboard['last_week_rank'].fillna(0).astype(int)\n",
    "    return dfbillboard"
   ]
  },
  {
   "cell_type": "code",
   "execution_count": 5,
   "metadata": {},
   "outputs": [
    {
     "data": {
      "text/html": [
       "<div>\n",
       "<style scoped>\n",
       "    .dataframe tbody tr th:only-of-type {\n",
       "        vertical-align: middle;\n",
       "    }\n",
       "\n",
       "    .dataframe tbody tr th {\n",
       "        vertical-align: top;\n",
       "    }\n",
       "\n",
       "    .dataframe thead th {\n",
       "        text-align: right;\n",
       "    }\n",
       "</style>\n",
       "<table border=\"1\" class=\"dataframe\">\n",
       "  <thead>\n",
       "    <tr style=\"text-align: right;\">\n",
       "      <th></th>\n",
       "      <th>song</th>\n",
       "      <th>artist</th>\n",
       "      <th>last_week_rank</th>\n",
       "      <th>weeks_on_chart</th>\n",
       "    </tr>\n",
       "  </thead>\n",
       "  <tbody>\n",
       "    <tr>\n",
       "      <th>0</th>\n",
       "      <td>Die With A Smile</td>\n",
       "      <td>Lady Gaga &amp; Bruno Mars</td>\n",
       "      <td>1</td>\n",
       "      <td>21</td>\n",
       "    </tr>\n",
       "    <tr>\n",
       "      <th>1</th>\n",
       "      <td>A Bar Song (Tipsy)</td>\n",
       "      <td>Shaboozey</td>\n",
       "      <td>2</td>\n",
       "      <td>39</td>\n",
       "    </tr>\n",
       "    <tr>\n",
       "      <th>2</th>\n",
       "      <td>Birds Of A Feather</td>\n",
       "      <td>Billie Eilish</td>\n",
       "      <td>3</td>\n",
       "      <td>34</td>\n",
       "    </tr>\n",
       "    <tr>\n",
       "      <th>3</th>\n",
       "      <td>Smile</td>\n",
       "      <td>Morgan Wallen</td>\n",
       "      <td>27</td>\n",
       "      <td>2</td>\n",
       "    </tr>\n",
       "    <tr>\n",
       "      <th>4</th>\n",
       "      <td>APT.</td>\n",
       "      <td>ROSE &amp; Bruno Mars</td>\n",
       "      <td>5</td>\n",
       "      <td>12</td>\n",
       "    </tr>\n",
       "    <tr>\n",
       "      <th>...</th>\n",
       "      <td>...</td>\n",
       "      <td>...</td>\n",
       "      <td>...</td>\n",
       "      <td>...</td>\n",
       "    </tr>\n",
       "    <tr>\n",
       "      <th>95</th>\n",
       "      <td>Close To You</td>\n",
       "      <td>Gracie Abrams</td>\n",
       "      <td>69</td>\n",
       "      <td>21</td>\n",
       "    </tr>\n",
       "    <tr>\n",
       "      <th>96</th>\n",
       "      <td>Diet Pepsi</td>\n",
       "      <td>Addison Rae</td>\n",
       "      <td>73</td>\n",
       "      <td>15</td>\n",
       "    </tr>\n",
       "    <tr>\n",
       "      <th>97</th>\n",
       "      <td>Burning Down</td>\n",
       "      <td>Alex Warren</td>\n",
       "      <td>79</td>\n",
       "      <td>6</td>\n",
       "    </tr>\n",
       "    <tr>\n",
       "      <th>98</th>\n",
       "      <td>Free Promo</td>\n",
       "      <td>Lil Baby</td>\n",
       "      <td>0</td>\n",
       "      <td>1</td>\n",
       "    </tr>\n",
       "    <tr>\n",
       "      <th>99</th>\n",
       "      <td>Dos Dias</td>\n",
       "      <td>Tito Double P &amp; Peso Pluma</td>\n",
       "      <td>68</td>\n",
       "      <td>18</td>\n",
       "    </tr>\n",
       "  </tbody>\n",
       "</table>\n",
       "<p>100 rows × 4 columns</p>\n",
       "</div>"
      ],
      "text/plain": [
       "                  song                      artist  last_week_rank  \\\n",
       "0     Die With A Smile      Lady Gaga & Bruno Mars               1   \n",
       "1   A Bar Song (Tipsy)                   Shaboozey               2   \n",
       "2   Birds Of A Feather               Billie Eilish               3   \n",
       "3                Smile               Morgan Wallen              27   \n",
       "4                 APT.           ROSE & Bruno Mars               5   \n",
       "..                 ...                         ...             ...   \n",
       "95        Close To You               Gracie Abrams              69   \n",
       "96          Diet Pepsi                 Addison Rae              73   \n",
       "97        Burning Down                 Alex Warren              79   \n",
       "98          Free Promo                    Lil Baby               0   \n",
       "99            Dos Dias  Tito Double P & Peso Pluma              68   \n",
       "\n",
       "    weeks_on_chart  \n",
       "0               21  \n",
       "1               39  \n",
       "2               34  \n",
       "3                2  \n",
       "4               12  \n",
       "..             ...  \n",
       "95              21  \n",
       "96              15  \n",
       "97               6  \n",
       "98               1  \n",
       "99              18  \n",
       "\n",
       "[100 rows x 4 columns]"
      ]
     },
     "execution_count": 5,
     "metadata": {},
     "output_type": "execute_result"
    }
   ],
   "source": [
    "url = \"https://www.billboard.com/charts/hot-100/\"\n",
    "billboard100(url)"
   ]
  },
  {
   "cell_type": "markdown",
   "metadata": {},
   "source": [
    "## Song recommendation"
   ]
  },
  {
   "cell_type": "markdown",
   "metadata": {},
   "source": [
    "![](image.png)"
   ]
  },
  {
   "cell_type": "code",
   "execution_count": 6,
   "metadata": {},
   "outputs": [],
   "source": [
    "from Billboard import *"
   ]
  },
  {
   "cell_type": "code",
   "execution_count": 7,
   "metadata": {},
   "outputs": [
    {
     "data": {
      "text/html": [
       "<div>\n",
       "<style scoped>\n",
       "    .dataframe tbody tr th:only-of-type {\n",
       "        vertical-align: middle;\n",
       "    }\n",
       "\n",
       "    .dataframe tbody tr th {\n",
       "        vertical-align: top;\n",
       "    }\n",
       "\n",
       "    .dataframe thead th {\n",
       "        text-align: right;\n",
       "    }\n",
       "</style>\n",
       "<table border=\"1\" class=\"dataframe\">\n",
       "  <thead>\n",
       "    <tr style=\"text-align: right;\">\n",
       "      <th></th>\n",
       "      <th>song</th>\n",
       "      <th>artist</th>\n",
       "      <th>last_week_rank</th>\n",
       "      <th>weeks_on_chart</th>\n",
       "    </tr>\n",
       "  </thead>\n",
       "  <tbody>\n",
       "    <tr>\n",
       "      <th>0</th>\n",
       "      <td>Die With A Smile</td>\n",
       "      <td>Lady Gaga &amp; Bruno Mars</td>\n",
       "      <td>1</td>\n",
       "      <td>21</td>\n",
       "    </tr>\n",
       "    <tr>\n",
       "      <th>1</th>\n",
       "      <td>A Bar Song (Tipsy)</td>\n",
       "      <td>Shaboozey</td>\n",
       "      <td>2</td>\n",
       "      <td>39</td>\n",
       "    </tr>\n",
       "    <tr>\n",
       "      <th>2</th>\n",
       "      <td>Birds Of A Feather</td>\n",
       "      <td>Billie Eilish</td>\n",
       "      <td>3</td>\n",
       "      <td>34</td>\n",
       "    </tr>\n",
       "    <tr>\n",
       "      <th>3</th>\n",
       "      <td>Smile</td>\n",
       "      <td>Morgan Wallen</td>\n",
       "      <td>27</td>\n",
       "      <td>2</td>\n",
       "    </tr>\n",
       "    <tr>\n",
       "      <th>4</th>\n",
       "      <td>APT.</td>\n",
       "      <td>ROSE &amp; Bruno Mars</td>\n",
       "      <td>5</td>\n",
       "      <td>12</td>\n",
       "    </tr>\n",
       "    <tr>\n",
       "      <th>...</th>\n",
       "      <td>...</td>\n",
       "      <td>...</td>\n",
       "      <td>...</td>\n",
       "      <td>...</td>\n",
       "    </tr>\n",
       "    <tr>\n",
       "      <th>95</th>\n",
       "      <td>Close To You</td>\n",
       "      <td>Gracie Abrams</td>\n",
       "      <td>69</td>\n",
       "      <td>21</td>\n",
       "    </tr>\n",
       "    <tr>\n",
       "      <th>96</th>\n",
       "      <td>Diet Pepsi</td>\n",
       "      <td>Addison Rae</td>\n",
       "      <td>73</td>\n",
       "      <td>15</td>\n",
       "    </tr>\n",
       "    <tr>\n",
       "      <th>97</th>\n",
       "      <td>Burning Down</td>\n",
       "      <td>Alex Warren</td>\n",
       "      <td>79</td>\n",
       "      <td>6</td>\n",
       "    </tr>\n",
       "    <tr>\n",
       "      <th>98</th>\n",
       "      <td>Free Promo</td>\n",
       "      <td>Lil Baby</td>\n",
       "      <td>0</td>\n",
       "      <td>1</td>\n",
       "    </tr>\n",
       "    <tr>\n",
       "      <th>99</th>\n",
       "      <td>Dos Dias</td>\n",
       "      <td>Tito Double P &amp; Peso Pluma</td>\n",
       "      <td>68</td>\n",
       "      <td>18</td>\n",
       "    </tr>\n",
       "  </tbody>\n",
       "</table>\n",
       "<p>100 rows × 4 columns</p>\n",
       "</div>"
      ],
      "text/plain": [
       "                  song                      artist  last_week_rank  \\\n",
       "0     Die With A Smile      Lady Gaga & Bruno Mars               1   \n",
       "1   A Bar Song (Tipsy)                   Shaboozey               2   \n",
       "2   Birds Of A Feather               Billie Eilish               3   \n",
       "3                Smile               Morgan Wallen              27   \n",
       "4                 APT.           ROSE & Bruno Mars               5   \n",
       "..                 ...                         ...             ...   \n",
       "95        Close To You               Gracie Abrams              69   \n",
       "96          Diet Pepsi                 Addison Rae              73   \n",
       "97        Burning Down                 Alex Warren              79   \n",
       "98          Free Promo                    Lil Baby               0   \n",
       "99            Dos Dias  Tito Double P & Peso Pluma              68   \n",
       "\n",
       "    weeks_on_chart  \n",
       "0               21  \n",
       "1               39  \n",
       "2               34  \n",
       "3                2  \n",
       "4               12  \n",
       "..             ...  \n",
       "95              21  \n",
       "96              15  \n",
       "97               6  \n",
       "98               1  \n",
       "99              18  \n",
       "\n",
       "[100 rows x 4 columns]"
      ]
     },
     "execution_count": 7,
     "metadata": {},
     "output_type": "execute_result"
    }
   ],
   "source": [
    "dfbillboard = billboardfunction(url)\n",
    "dfbillboard"
   ]
  },
  {
   "cell_type": "code",
   "execution_count": 8,
   "metadata": {},
   "outputs": [
    {
     "name": "stdout",
     "output_type": "stream",
     "text": [
      "<class 'pandas.core.frame.DataFrame'>\n",
      "RangeIndex: 100 entries, 0 to 99\n",
      "Data columns (total 4 columns):\n",
      " #   Column          Non-Null Count  Dtype \n",
      "---  ------          --------------  ----- \n",
      " 0   song            100 non-null    object\n",
      " 1   artist          100 non-null    object\n",
      " 2   last_week_rank  100 non-null    int32 \n",
      " 3   weeks_on_chart  100 non-null    int32 \n",
      "dtypes: int32(2), object(2)\n",
      "memory usage: 2.5+ KB\n"
     ]
    }
   ],
   "source": [
    "dfbillboard.info()"
   ]
  },
  {
   "cell_type": "code",
   "execution_count": 9,
   "metadata": {},
   "outputs": [
    {
     "name": "stdout",
     "output_type": "stream",
     "text": [
      "Great that you like this song, but it's not hot\n"
     ]
    }
   ],
   "source": [
    "# asking the user to type a song\n",
    "song_input = input('Enter a recent song that you like')\n",
    "\n",
    "# lower all the titles and make a list out of them\n",
    "song_input_lower = song_input.lower()\n",
    "top100songs = list(dfbillboard['song'].apply(lambda x: x.lower()))\n",
    "top100artists = list(dfbillboard['artist'].apply(lambda x: x.lower()))\n",
    "\n",
    "if song_input_lower in top100songs:\n",
    "    artist_input = input('From which artist is it?') # asking for the artist\n",
    "    df_song_input = dfbillboard[dfbillboard['song'].str.lower()==song_input_lower]\n",
    "\n",
    "    artist_billboard = df_song_input.artist.values[0] # checking if this song is in the df\n",
    "    artist_billboard_lower = artist_billboard.lower()\n",
    "    song = df_song_input.song.values[0]\n",
    "    \n",
    "    if artist_input == artist_billboard_lower:\n",
    "        print(f\"'{song}' from '{artist_billboard}' is in the current top 100 Hot Songs from Billboard\")\n",
    "    else:\n",
    "        print('not a hot song')\n",
    "else:\n",
    "    print(\"Great that you like this song, but it's not hot\")"
   ]
  },
  {
   "cell_type": "code",
   "execution_count": null,
   "metadata": {},
   "outputs": [
    {
     "name": "stdout",
     "output_type": "stream",
     "text": [
      "                          song                           artist\n",
      "30         Wind Up Missin' You                   Tucker Wetmore\n",
      "55          I'm Gonna Love You  Cody Johnson & Carrie Underwood\n",
      "74  Think I'm In Love With You                  Chris Stapleton\n",
      "95                Close To You                    Gracie Abrams\n",
      "Then it's not a hot song\n"
     ]
    }
   ],
   "source": [
    "# ask the user to type a song\n",
    "song_input = input('Enter a recent song that you like')\n",
    "\n",
    "# lower input from the user\n",
    "song_input_lower = song_input.lower()\n",
    "\n",
    "# create a list with all the words from all the titles\n",
    "top_words_title = list(dfbillboard['song'].apply(lambda x: x.lower().split()).sum())\n",
    "\n",
    "# create a list with all the artists\n",
    "top100artists = list(dfbillboard['artist'].apply(lambda x: x.lower()))\n",
    "\n",
    "if song_input_lower in top_words_title:\n",
    "    # if the user input matches any of the words from any of the titles, create a df with all the possible songs\n",
    "    df_song_input = dfbillboard[dfbillboard['song'].str.lower().str.contains(song_input_lower)][['song', 'artist']] # only show the song and the artist from the original df\n",
    "    print(df_song_input) \n",
    "    sys.stdout.flush() # show it to the user\n",
    "    \n",
    "    # define the list with all the artists that have a song with the word that entered the user in the title\n",
    "    artist_billboard = dfbillboard[dfbillboard['song'].str.lower().str.contains(song_input_lower)]['artist'].str.lower().tolist()\n",
    "    artist_input = input(\"Is it one of these? If so, write down the artist. If not, just type 'No'\") # ask the user if their song is in the df\n",
    "\n",
    "    if artist_input.lower() in artist_billboard:\n",
    "        while True:\n",
    "            # if their song is in the df, recommend another song from the top100\n",
    "            new_song = random.choice(list(dfbillboard['song']))\n",
    "            if new_song.lower() != song_input.lower():\n",
    "                break # if the random sample is the same song that the user typed\n",
    "        new_artist = dfbillboard[dfbillboard['song']==(new_song)].artist.values[0] \n",
    "        print(f\"Here's another hot song from the the Top 100 Billboard: '{new_song}' from '{new_artist}'\") # recommend the new song to the user\n",
    "    else:\n",
    "        print(\"Then it's not a hot song\")\n",
    "else:\n",
    "    print(\"Great that you like this song, but it's not hot\")\n"
   ]
  }
 ],
 "metadata": {
  "kernelspec": {
   "display_name": "base",
   "language": "python",
   "name": "python3"
  },
  "language_info": {
   "codemirror_mode": {
    "name": "ipython",
    "version": 3
   },
   "file_extension": ".py",
   "mimetype": "text/x-python",
   "name": "python",
   "nbconvert_exporter": "python",
   "pygments_lexer": "ipython3",
   "version": "3.12.4"
  }
 },
 "nbformat": 4,
 "nbformat_minor": 2
}
