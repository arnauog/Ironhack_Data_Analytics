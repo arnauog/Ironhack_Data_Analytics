{
 "cells": [
  {
   "cell_type": "markdown",
   "metadata": {},
   "source": [
    "##### This Lab is a bit different: instead of filling a document, you will have to create one of your own! In this lab, you will have to create a Jupyter Notebook where you scrap everytime is executed the updated Billboard Hot 100 songs (URL) and return a dataframe with 100 rows (duh) and the following columns:\n",
    "\n",
    "Song\n",
    "\n",
    "Artist\n",
    "\n",
    "Last Week Rank\n",
    "\n",
    "Weeks On Chart\n",
    "\n",
    "##### It will also be nice if the document presented is in a function. Even nicer if it is a .py file."
   ]
  },
  {
   "cell_type": "markdown",
   "metadata": {},
   "source": [
    "# Webscraping"
   ]
  },
  {
   "cell_type": "code",
   "execution_count": 1,
   "metadata": {},
   "outputs": [],
   "source": [
    "from bs4 import BeautifulSoup\n",
    "import requests ## HTTP REQUEST\n",
    "import pandas as pd"
   ]
  },
  {
   "cell_type": "code",
   "execution_count": 29,
   "metadata": {},
   "outputs": [
    {
     "data": {
      "text/plain": [
       "<Response [200]>"
      ]
     },
     "execution_count": 29,
     "metadata": {},
     "output_type": "execute_result"
    }
   ],
   "source": [
    "url = 'https://www.billboard.com/charts/hot-100/'\n",
    "requests.get(url)"
   ]
  },
  {
   "cell_type": "code",
   "execution_count": 28,
   "metadata": {},
   "outputs": [],
   "source": [
    "response = requests.get(url).content\n",
    "soup = BeautifulSoup(response, \"html.parser\")"
   ]
  },
  {
   "cell_type": "markdown",
   "metadata": {},
   "source": [
    "## Getting the information"
   ]
  },
  {
   "cell_type": "code",
   "execution_count": 6,
   "metadata": {},
   "outputs": [
    {
     "data": {
      "text/plain": [
       "[<h3 class=\"c-title a-no-trucate a-font-primary-bold-s u-letter-spacing-0021 u-font-size-23@tablet lrv-u-font-size-16 u-line-height-125 u-line-height-normal@mobile-max a-truncate-ellipsis u-max-width-245 u-max-width-230@tablet-only u-letter-spacing-0028@tablet\" id=\"title-of-a-story\">\n",
       " \n",
       " \t\n",
       " \t\n",
       " \t\t\n",
       " \t\t\t\t\tDie With A Smile\t\t\n",
       " \t\n",
       " </h3>,\n",
       " <h3 class=\"c-title a-no-trucate a-font-primary-bold-s u-letter-spacing-0021 lrv-u-font-size-18@tablet lrv-u-font-size-16 u-line-height-125 u-line-height-normal@mobile-max a-truncate-ellipsis u-max-width-330 u-max-width-230@tablet-only\" id=\"title-of-a-story\">\n",
       " \n",
       " \t\n",
       " \t\n",
       " \t\t\n",
       " \t\t\t\t\tA Bar Song (Tipsy)\t\t\n",
       " \t\n",
       " </h3>,\n",
       " <h3 class=\"c-title a-no-trucate a-font-primary-bold-s u-letter-spacing-0021 lrv-u-font-size-18@tablet lrv-u-font-size-16 u-line-height-125 u-line-height-normal@mobile-max a-truncate-ellipsis u-max-width-330 u-max-width-230@tablet-only\" id=\"title-of-a-story\">\n",
       " \n",
       " \t\n",
       " \t\n",
       " \t\t\n",
       " \t\t\t\t\tBirds Of A Feather\t\t\n",
       " \t\n",
       " </h3>,\n",
       " <h3 class=\"c-title a-no-trucate a-font-primary-bold-s u-letter-spacing-0021 lrv-u-font-size-18@tablet lrv-u-font-size-16 u-line-height-125 u-line-height-normal@mobile-max a-truncate-ellipsis u-max-width-330 u-max-width-230@tablet-only\" id=\"title-of-a-story\">\n",
       " \n",
       " \t\n",
       " \t\n",
       " \t\t\n",
       " \t\t\t\t\tSmile\t\t\n",
       " \t\n",
       " </h3>,\n",
       " <h3 class=\"c-title a-no-trucate a-font-primary-bold-s u-letter-spacing-0021 lrv-u-font-size-18@tablet lrv-u-font-size-16 u-line-height-125 u-line-height-normal@mobile-max a-truncate-ellipsis u-max-width-330 u-max-width-230@tablet-only\" id=\"title-of-a-story\">\n",
       " \n",
       " \t\n",
       " \t\n",
       " \t\t\n",
       " \t\t\t\t\tAPT.\t\t\n",
       " \t\n",
       " </h3>]"
      ]
     },
     "execution_count": 6,
     "metadata": {},
     "output_type": "execute_result"
    }
   ],
   "source": [
    "songs = soup.select(\"li h3\", class_=\"c-title  a-no-trucate a-font-primary-bold-s u-letter-spacing-0021 lrv-u-font-size-18@tablet lrv-u-font-size-16 u-line-height-125 u-line-height-normal@mobile-max a-truncate-ellipsis u-max-width-330 u-max-width-230@tablet-only\")\n",
    "songs[:5]"
   ]
  },
  {
   "cell_type": "code",
   "execution_count": 7,
   "metadata": {},
   "outputs": [
    {
     "data": {
      "text/plain": [
       "111"
      ]
     },
     "execution_count": 7,
     "metadata": {},
     "output_type": "execute_result"
    }
   ],
   "source": [
    "len(songs)"
   ]
  },
  {
   "cell_type": "code",
   "execution_count": 12,
   "metadata": {},
   "outputs": [
    {
     "data": {
      "text/plain": [
       "['Die With A Smile',\n",
       " 'A Bar Song (Tipsy)',\n",
       " 'Birds Of A Feather',\n",
       " 'Smile',\n",
       " 'APT.']"
      ]
     },
     "execution_count": 12,
     "metadata": {},
     "output_type": "execute_result"
    }
   ],
   "source": [
    "songlist = []\n",
    "\n",
    "for i in songs[:100]:\n",
    "    songlist.append(i.get_text().lstrip().rstrip())\n",
    "\n",
    "songlist[:5]"
   ]
  },
  {
   "cell_type": "code",
   "execution_count": 13,
   "metadata": {},
   "outputs": [
    {
     "data": {
      "text/plain": [
       "[<span class=\"c-label a-no-trucate a-font-primary-s lrv-u-font-size-14@mobile-max u-line-height-normal@mobile-max u-letter-spacing-0021 lrv-u-display-block a-truncate-ellipsis-2line u-max-width-330 u-max-width-230@tablet-only u-font-size-20@tablet\">\n",
       " \t\n",
       " \tLady Gaga &amp; Bruno Mars\n",
       " </span>,\n",
       " <span class=\"c-label a-font-primary-bold-l a-font-primary-m@mobile-max u-font-weight-normal@mobile-max lrv-u-padding-tb-050@mobile-max u-font-size-32@tablet\">\n",
       " \t\n",
       " \t1\n",
       " </span>,\n",
       " <span class=\"c-label a-font-primary-bold-l a-font-primary-m@mobile-max u-font-weight-normal@mobile-max lrv-u-padding-tb-050@mobile-max u-font-size-32@tablet\">\n",
       " \t\n",
       " \t1\n",
       " </span>,\n",
       " <span class=\"c-label a-font-primary-bold-l a-font-primary-m@mobile-max u-font-weight-normal@mobile-max lrv-u-padding-tb-050@mobile-max u-font-size-32@tablet\">\n",
       " \t\n",
       " \t21\n",
       " </span>,\n",
       " <span class=\"c-label a-font-primary-bold-l a-font-primary-m@mobile-max u-font-weight-normal@mobile-max lrv-u-padding-tb-050@mobile-max u-font-size-32@tablet\">\n",
       " \t\n",
       " \t1\n",
       " </span>]"
      ]
     },
     "execution_count": 13,
     "metadata": {},
     "output_type": "execute_result"
    }
   ],
   "source": [
    "artists = soup.select('div ul li ul li span', class_=\"c-label  a-no-trucate a-font-primary-s lrv-u-font-size-14@mobile-max u-line-height-normal@mobile-max u-letter-spacing-0021 lrv-u-display-block a-truncate-ellipsis-2line u-max-width-330 u-max-width-230@tablet-only\")\n",
    "artists[:5]"
   ]
  },
  {
   "cell_type": "code",
   "execution_count": 14,
   "metadata": {},
   "outputs": [
    {
     "data": {
      "text/plain": [
       "700"
      ]
     },
     "execution_count": 14,
     "metadata": {},
     "output_type": "execute_result"
    }
   ],
   "source": [
    "len(artists)"
   ]
  },
  {
   "cell_type": "code",
   "execution_count": 25,
   "metadata": {},
   "outputs": [
    {
     "data": {
      "text/plain": [
       "['Lady Gaga & Bruno Mars',\n",
       " 'Shaboozey',\n",
       " 'Billie Eilish',\n",
       " 'Morgan Wallen',\n",
       " 'ROSE & Bruno Mars']"
      ]
     },
     "execution_count": 25,
     "metadata": {},
     "output_type": "execute_result"
    }
   ],
   "source": [
    "artists_list = []\n",
    "\n",
    "for i in artists[::7]:\n",
    "    artists_list.append(i.get_text().lstrip().rstrip())\n",
    "\n",
    "artists_list[:5]"
   ]
  },
  {
   "cell_type": "code",
   "execution_count": 16,
   "metadata": {},
   "outputs": [
    {
     "data": {
      "text/plain": [
       "[<span class=\"c-label a-no-trucate a-font-primary-s lrv-u-font-size-14@mobile-max u-line-height-normal@mobile-max u-letter-spacing-0021 lrv-u-display-block a-truncate-ellipsis-2line u-max-width-330 u-max-width-230@tablet-only u-font-size-20@tablet\">\n",
       " \t\n",
       " \tLady Gaga &amp; Bruno Mars\n",
       " </span>,\n",
       " <span class=\"c-label a-font-primary-bold-l a-font-primary-m@mobile-max u-font-weight-normal@mobile-max lrv-u-padding-tb-050@mobile-max u-font-size-32@tablet\">\n",
       " \t\n",
       " \t1\n",
       " </span>,\n",
       " <span class=\"c-label a-font-primary-bold-l a-font-primary-m@mobile-max u-font-weight-normal@mobile-max lrv-u-padding-tb-050@mobile-max u-font-size-32@tablet\">\n",
       " \t\n",
       " \t1\n",
       " </span>,\n",
       " <span class=\"c-label a-font-primary-bold-l a-font-primary-m@mobile-max u-font-weight-normal@mobile-max lrv-u-padding-tb-050@mobile-max u-font-size-32@tablet\">\n",
       " \t\n",
       " \t21\n",
       " </span>,\n",
       " <span class=\"c-label a-font-primary-bold-l a-font-primary-m@mobile-max u-font-weight-normal@mobile-max lrv-u-padding-tb-050@mobile-max u-font-size-32@tablet\">\n",
       " \t\n",
       " \t1\n",
       " </span>]"
      ]
     },
     "execution_count": 16,
     "metadata": {},
     "output_type": "execute_result"
    }
   ],
   "source": [
    "lastweek = soup.select('li ul li span', class_=\"c-label  a-font-primary-m lrv-u-padding-tb-050@mobile-max\")\n",
    "lastweek[:5]"
   ]
  },
  {
   "cell_type": "code",
   "execution_count": 17,
   "metadata": {},
   "outputs": [
    {
     "data": {
      "text/plain": [
       "700"
      ]
     },
     "execution_count": 17,
     "metadata": {},
     "output_type": "execute_result"
    }
   ],
   "source": [
    "len(lastweek)"
   ]
  },
  {
   "cell_type": "code",
   "execution_count": 26,
   "metadata": {},
   "outputs": [
    {
     "data": {
      "text/plain": [
       "['1', '2', '3', '27', '5']"
      ]
     },
     "execution_count": 26,
     "metadata": {},
     "output_type": "execute_result"
    }
   ],
   "source": [
    "list_lastweek = []\n",
    "\n",
    "for i in lastweek[1::7]:\n",
    "    list_lastweek.append(i.get_text().lstrip().rstrip())\n",
    "\n",
    "list_lastweek[:5]"
   ]
  },
  {
   "cell_type": "code",
   "execution_count": 27,
   "metadata": {},
   "outputs": [
    {
     "data": {
      "text/plain": [
       "['21', '39', '34', '2', '12']"
      ]
     },
     "execution_count": 27,
     "metadata": {},
     "output_type": "execute_result"
    }
   ],
   "source": [
    "wks_on_chart = []\n",
    "\n",
    "for i in lastweek[3::7]:\n",
    "    wks_on_chart.append(i.get_text().lstrip().rstrip())\n",
    "\n",
    "wks_on_chart[:5]"
   ]
  },
  {
   "cell_type": "markdown",
   "metadata": {},
   "source": [
    "## Dataframe"
   ]
  },
  {
   "cell_type": "code",
   "execution_count": 20,
   "metadata": {},
   "outputs": [
    {
     "data": {
      "text/html": [
       "<div>\n",
       "<style scoped>\n",
       "    .dataframe tbody tr th:only-of-type {\n",
       "        vertical-align: middle;\n",
       "    }\n",
       "\n",
       "    .dataframe tbody tr th {\n",
       "        vertical-align: top;\n",
       "    }\n",
       "\n",
       "    .dataframe thead th {\n",
       "        text-align: right;\n",
       "    }\n",
       "</style>\n",
       "<table border=\"1\" class=\"dataframe\">\n",
       "  <thead>\n",
       "    <tr style=\"text-align: right;\">\n",
       "      <th></th>\n",
       "      <th>song</th>\n",
       "      <th>artist</th>\n",
       "      <th>last week rank</th>\n",
       "      <th>weeks on chart</th>\n",
       "    </tr>\n",
       "  </thead>\n",
       "  <tbody>\n",
       "    <tr>\n",
       "      <th>0</th>\n",
       "      <td>Die With A Smile</td>\n",
       "      <td>Lady Gaga &amp; Bruno Mars</td>\n",
       "      <td>1</td>\n",
       "      <td>21</td>\n",
       "    </tr>\n",
       "    <tr>\n",
       "      <th>1</th>\n",
       "      <td>A Bar Song (Tipsy)</td>\n",
       "      <td>Shaboozey</td>\n",
       "      <td>2</td>\n",
       "      <td>39</td>\n",
       "    </tr>\n",
       "    <tr>\n",
       "      <th>2</th>\n",
       "      <td>Birds Of A Feather</td>\n",
       "      <td>Billie Eilish</td>\n",
       "      <td>3</td>\n",
       "      <td>34</td>\n",
       "    </tr>\n",
       "    <tr>\n",
       "      <th>3</th>\n",
       "      <td>Smile</td>\n",
       "      <td>Morgan Wallen</td>\n",
       "      <td>27</td>\n",
       "      <td>2</td>\n",
       "    </tr>\n",
       "    <tr>\n",
       "      <th>4</th>\n",
       "      <td>APT.</td>\n",
       "      <td>ROSE &amp; Bruno Mars</td>\n",
       "      <td>5</td>\n",
       "      <td>12</td>\n",
       "    </tr>\n",
       "    <tr>\n",
       "      <th>...</th>\n",
       "      <td>...</td>\n",
       "      <td>...</td>\n",
       "      <td>...</td>\n",
       "      <td>...</td>\n",
       "    </tr>\n",
       "    <tr>\n",
       "      <th>95</th>\n",
       "      <td>Close To You</td>\n",
       "      <td>Gracie Abrams</td>\n",
       "      <td>69</td>\n",
       "      <td>21</td>\n",
       "    </tr>\n",
       "    <tr>\n",
       "      <th>96</th>\n",
       "      <td>Diet Pepsi</td>\n",
       "      <td>Addison Rae</td>\n",
       "      <td>73</td>\n",
       "      <td>15</td>\n",
       "    </tr>\n",
       "    <tr>\n",
       "      <th>97</th>\n",
       "      <td>Burning Down</td>\n",
       "      <td>Alex Warren</td>\n",
       "      <td>79</td>\n",
       "      <td>6</td>\n",
       "    </tr>\n",
       "    <tr>\n",
       "      <th>98</th>\n",
       "      <td>Free Promo</td>\n",
       "      <td>Lil Baby</td>\n",
       "      <td>-</td>\n",
       "      <td>1</td>\n",
       "    </tr>\n",
       "    <tr>\n",
       "      <th>99</th>\n",
       "      <td>Dos Dias</td>\n",
       "      <td>Tito Double P &amp; Peso Pluma</td>\n",
       "      <td>68</td>\n",
       "      <td>18</td>\n",
       "    </tr>\n",
       "  </tbody>\n",
       "</table>\n",
       "<p>100 rows × 4 columns</p>\n",
       "</div>"
      ],
      "text/plain": [
       "                  song                      artist last week rank  \\\n",
       "0     Die With A Smile      Lady Gaga & Bruno Mars              1   \n",
       "1   A Bar Song (Tipsy)                   Shaboozey              2   \n",
       "2   Birds Of A Feather               Billie Eilish              3   \n",
       "3                Smile               Morgan Wallen             27   \n",
       "4                 APT.           ROSE & Bruno Mars              5   \n",
       "..                 ...                         ...            ...   \n",
       "95        Close To You               Gracie Abrams             69   \n",
       "96          Diet Pepsi                 Addison Rae             73   \n",
       "97        Burning Down                 Alex Warren             79   \n",
       "98          Free Promo                    Lil Baby              -   \n",
       "99            Dos Dias  Tito Double P & Peso Pluma             68   \n",
       "\n",
       "   weeks on chart  \n",
       "0              21  \n",
       "1              39  \n",
       "2              34  \n",
       "3               2  \n",
       "4              12  \n",
       "..            ...  \n",
       "95             21  \n",
       "96             15  \n",
       "97              6  \n",
       "98              1  \n",
       "99             18  \n",
       "\n",
       "[100 rows x 4 columns]"
      ]
     },
     "execution_count": 20,
     "metadata": {},
     "output_type": "execute_result"
    }
   ],
   "source": [
    "billboard = pd.DataFrame({'song': songlist, 'artist': artists_list, 'last week rank': list_lastweek, 'weeks on chart': wks_on_chart})\n",
    "billboard"
   ]
  },
  {
   "cell_type": "markdown",
   "metadata": {},
   "source": [
    "## Function"
   ]
  },
  {
   "cell_type": "code",
   "execution_count": 21,
   "metadata": {},
   "outputs": [],
   "source": [
    "def billboard100 (url):\n",
    "    from bs4 import BeautifulSoup\n",
    "    import requests ## HTTP REQUEST\n",
    "    import pandas as pd\n",
    "    \n",
    "    link = \"url\"\n",
    "    response = requests.get(url).content\n",
    "    soup = BeautifulSoup(response, \"html.parser\")\n",
    "    \n",
    "    songs = soup.select(\"li h3\", class_=\"c-title  a-no-trucate a-font-primary-bold-s u-letter-spacing-0021 lrv-u-font-size-18@tablet lrv-u-font-size-16 u-line-height-125 u-line-height-normal@mobile-max a-truncate-ellipsis u-max-width-330 u-max-width-230@tablet-only\")\n",
    "    songlist = []\n",
    "    for i in songs[:100]:\n",
    "        songlist.append(i.get_text().lstrip().rstrip())\n",
    "    \n",
    "    artists = soup.select('div ul li ul li span', class_=\"c-label  a-no-trucate a-font-primary-s lrv-u-font-size-14@mobile-max u-line-height-normal@mobile-max u-letter-spacing-0021 lrv-u-display-block a-truncate-ellipsis-2line u-max-width-330 u-max-width-230@tablet-only\")\n",
    "    artists_list = []\n",
    "    for i in artists[::7]:\n",
    "        artists_list.append(i.get_text().lstrip().rstrip())\n",
    "\n",
    "    lastweek = soup.select('li ul li span', class_=\"c-label  a-font-primary-m lrv-u-padding-tb-050@mobile-max\")\n",
    "    list_lastweek = []\n",
    "    for i in lastweek[1::7]:\n",
    "        list_lastweek.append(i.get_text().lstrip().rstrip())\n",
    "    wks_on_chart = []\n",
    "    for i in lastweek[3::7]:\n",
    "        wks_on_chart.append(i.get_text().lstrip().rstrip())\n",
    "    \n",
    "    billboard = pd.DataFrame({'song': songlist, 'artist': artists_list, 'last week rank': list_lastweek, 'weeks on chart': wks_on_chart})\n",
    "    return billboard"
   ]
  },
  {
   "cell_type": "code",
   "execution_count": 22,
   "metadata": {},
   "outputs": [
    {
     "data": {
      "text/html": [
       "<div>\n",
       "<style scoped>\n",
       "    .dataframe tbody tr th:only-of-type {\n",
       "        vertical-align: middle;\n",
       "    }\n",
       "\n",
       "    .dataframe tbody tr th {\n",
       "        vertical-align: top;\n",
       "    }\n",
       "\n",
       "    .dataframe thead th {\n",
       "        text-align: right;\n",
       "    }\n",
       "</style>\n",
       "<table border=\"1\" class=\"dataframe\">\n",
       "  <thead>\n",
       "    <tr style=\"text-align: right;\">\n",
       "      <th></th>\n",
       "      <th>song</th>\n",
       "      <th>artist</th>\n",
       "      <th>last week rank</th>\n",
       "      <th>weeks on chart</th>\n",
       "    </tr>\n",
       "  </thead>\n",
       "  <tbody>\n",
       "    <tr>\n",
       "      <th>0</th>\n",
       "      <td>Die With A Smile</td>\n",
       "      <td>Lady Gaga &amp; Bruno Mars</td>\n",
       "      <td>1</td>\n",
       "      <td>21</td>\n",
       "    </tr>\n",
       "    <tr>\n",
       "      <th>1</th>\n",
       "      <td>A Bar Song (Tipsy)</td>\n",
       "      <td>Shaboozey</td>\n",
       "      <td>2</td>\n",
       "      <td>39</td>\n",
       "    </tr>\n",
       "    <tr>\n",
       "      <th>2</th>\n",
       "      <td>Birds Of A Feather</td>\n",
       "      <td>Billie Eilish</td>\n",
       "      <td>3</td>\n",
       "      <td>34</td>\n",
       "    </tr>\n",
       "    <tr>\n",
       "      <th>3</th>\n",
       "      <td>Smile</td>\n",
       "      <td>Morgan Wallen</td>\n",
       "      <td>27</td>\n",
       "      <td>2</td>\n",
       "    </tr>\n",
       "    <tr>\n",
       "      <th>4</th>\n",
       "      <td>APT.</td>\n",
       "      <td>ROSE &amp; Bruno Mars</td>\n",
       "      <td>5</td>\n",
       "      <td>12</td>\n",
       "    </tr>\n",
       "    <tr>\n",
       "      <th>...</th>\n",
       "      <td>...</td>\n",
       "      <td>...</td>\n",
       "      <td>...</td>\n",
       "      <td>...</td>\n",
       "    </tr>\n",
       "    <tr>\n",
       "      <th>95</th>\n",
       "      <td>Close To You</td>\n",
       "      <td>Gracie Abrams</td>\n",
       "      <td>69</td>\n",
       "      <td>21</td>\n",
       "    </tr>\n",
       "    <tr>\n",
       "      <th>96</th>\n",
       "      <td>Diet Pepsi</td>\n",
       "      <td>Addison Rae</td>\n",
       "      <td>73</td>\n",
       "      <td>15</td>\n",
       "    </tr>\n",
       "    <tr>\n",
       "      <th>97</th>\n",
       "      <td>Burning Down</td>\n",
       "      <td>Alex Warren</td>\n",
       "      <td>79</td>\n",
       "      <td>6</td>\n",
       "    </tr>\n",
       "    <tr>\n",
       "      <th>98</th>\n",
       "      <td>Free Promo</td>\n",
       "      <td>Lil Baby</td>\n",
       "      <td>-</td>\n",
       "      <td>1</td>\n",
       "    </tr>\n",
       "    <tr>\n",
       "      <th>99</th>\n",
       "      <td>Dos Dias</td>\n",
       "      <td>Tito Double P &amp; Peso Pluma</td>\n",
       "      <td>68</td>\n",
       "      <td>18</td>\n",
       "    </tr>\n",
       "  </tbody>\n",
       "</table>\n",
       "<p>100 rows × 4 columns</p>\n",
       "</div>"
      ],
      "text/plain": [
       "                  song                      artist last week rank  \\\n",
       "0     Die With A Smile      Lady Gaga & Bruno Mars              1   \n",
       "1   A Bar Song (Tipsy)                   Shaboozey              2   \n",
       "2   Birds Of A Feather               Billie Eilish              3   \n",
       "3                Smile               Morgan Wallen             27   \n",
       "4                 APT.           ROSE & Bruno Mars              5   \n",
       "..                 ...                         ...            ...   \n",
       "95        Close To You               Gracie Abrams             69   \n",
       "96          Diet Pepsi                 Addison Rae             73   \n",
       "97        Burning Down                 Alex Warren             79   \n",
       "98          Free Promo                    Lil Baby              -   \n",
       "99            Dos Dias  Tito Double P & Peso Pluma             68   \n",
       "\n",
       "   weeks on chart  \n",
       "0              21  \n",
       "1              39  \n",
       "2              34  \n",
       "3               2  \n",
       "4              12  \n",
       "..            ...  \n",
       "95             21  \n",
       "96             15  \n",
       "97              6  \n",
       "98              1  \n",
       "99             18  \n",
       "\n",
       "[100 rows x 4 columns]"
      ]
     },
     "execution_count": 22,
     "metadata": {},
     "output_type": "execute_result"
    }
   ],
   "source": [
    "url = \"https://www.billboard.com/charts/hot-100/\"\n",
    "billboard100(url)"
   ]
  },
  {
   "cell_type": "markdown",
   "metadata": {},
   "source": [
    "## .py file"
   ]
  },
  {
   "cell_type": "code",
   "execution_count": 23,
   "metadata": {},
   "outputs": [],
   "source": [
    "from Billboard import *"
   ]
  },
  {
   "cell_type": "code",
   "execution_count": 24,
   "metadata": {},
   "outputs": [
    {
     "data": {
      "text/html": [
       "<div>\n",
       "<style scoped>\n",
       "    .dataframe tbody tr th:only-of-type {\n",
       "        vertical-align: middle;\n",
       "    }\n",
       "\n",
       "    .dataframe tbody tr th {\n",
       "        vertical-align: top;\n",
       "    }\n",
       "\n",
       "    .dataframe thead th {\n",
       "        text-align: right;\n",
       "    }\n",
       "</style>\n",
       "<table border=\"1\" class=\"dataframe\">\n",
       "  <thead>\n",
       "    <tr style=\"text-align: right;\">\n",
       "      <th></th>\n",
       "      <th>song</th>\n",
       "      <th>artist</th>\n",
       "      <th>last week rank</th>\n",
       "      <th>weeks on chart</th>\n",
       "    </tr>\n",
       "  </thead>\n",
       "  <tbody>\n",
       "    <tr>\n",
       "      <th>0</th>\n",
       "      <td>Die With A Smile</td>\n",
       "      <td>Lady Gaga &amp; Bruno Mars</td>\n",
       "      <td>1</td>\n",
       "      <td>21</td>\n",
       "    </tr>\n",
       "    <tr>\n",
       "      <th>1</th>\n",
       "      <td>A Bar Song (Tipsy)</td>\n",
       "      <td>Shaboozey</td>\n",
       "      <td>2</td>\n",
       "      <td>39</td>\n",
       "    </tr>\n",
       "    <tr>\n",
       "      <th>2</th>\n",
       "      <td>Birds Of A Feather</td>\n",
       "      <td>Billie Eilish</td>\n",
       "      <td>3</td>\n",
       "      <td>34</td>\n",
       "    </tr>\n",
       "    <tr>\n",
       "      <th>3</th>\n",
       "      <td>Smile</td>\n",
       "      <td>Morgan Wallen</td>\n",
       "      <td>27</td>\n",
       "      <td>2</td>\n",
       "    </tr>\n",
       "    <tr>\n",
       "      <th>4</th>\n",
       "      <td>APT.</td>\n",
       "      <td>ROSE &amp; Bruno Mars</td>\n",
       "      <td>5</td>\n",
       "      <td>12</td>\n",
       "    </tr>\n",
       "    <tr>\n",
       "      <th>...</th>\n",
       "      <td>...</td>\n",
       "      <td>...</td>\n",
       "      <td>...</td>\n",
       "      <td>...</td>\n",
       "    </tr>\n",
       "    <tr>\n",
       "      <th>95</th>\n",
       "      <td>Close To You</td>\n",
       "      <td>Gracie Abrams</td>\n",
       "      <td>69</td>\n",
       "      <td>21</td>\n",
       "    </tr>\n",
       "    <tr>\n",
       "      <th>96</th>\n",
       "      <td>Diet Pepsi</td>\n",
       "      <td>Addison Rae</td>\n",
       "      <td>73</td>\n",
       "      <td>15</td>\n",
       "    </tr>\n",
       "    <tr>\n",
       "      <th>97</th>\n",
       "      <td>Burning Down</td>\n",
       "      <td>Alex Warren</td>\n",
       "      <td>79</td>\n",
       "      <td>6</td>\n",
       "    </tr>\n",
       "    <tr>\n",
       "      <th>98</th>\n",
       "      <td>Free Promo</td>\n",
       "      <td>Lil Baby</td>\n",
       "      <td>-</td>\n",
       "      <td>1</td>\n",
       "    </tr>\n",
       "    <tr>\n",
       "      <th>99</th>\n",
       "      <td>Dos Dias</td>\n",
       "      <td>Tito Double P &amp; Peso Pluma</td>\n",
       "      <td>68</td>\n",
       "      <td>18</td>\n",
       "    </tr>\n",
       "  </tbody>\n",
       "</table>\n",
       "<p>100 rows × 4 columns</p>\n",
       "</div>"
      ],
      "text/plain": [
       "                  song                      artist last week rank  \\\n",
       "0     Die With A Smile      Lady Gaga & Bruno Mars              1   \n",
       "1   A Bar Song (Tipsy)                   Shaboozey              2   \n",
       "2   Birds Of A Feather               Billie Eilish              3   \n",
       "3                Smile               Morgan Wallen             27   \n",
       "4                 APT.           ROSE & Bruno Mars              5   \n",
       "..                 ...                         ...            ...   \n",
       "95        Close To You               Gracie Abrams             69   \n",
       "96          Diet Pepsi                 Addison Rae             73   \n",
       "97        Burning Down                 Alex Warren             79   \n",
       "98          Free Promo                    Lil Baby              -   \n",
       "99            Dos Dias  Tito Double P & Peso Pluma             68   \n",
       "\n",
       "   weeks on chart  \n",
       "0              21  \n",
       "1              39  \n",
       "2              34  \n",
       "3               2  \n",
       "4              12  \n",
       "..            ...  \n",
       "95             21  \n",
       "96             15  \n",
       "97              6  \n",
       "98              1  \n",
       "99             18  \n",
       "\n",
       "[100 rows x 4 columns]"
      ]
     },
     "execution_count": 24,
     "metadata": {},
     "output_type": "execute_result"
    }
   ],
   "source": [
    "billboardfunction(url)"
   ]
  }
 ],
 "metadata": {
  "kernelspec": {
   "display_name": "base",
   "language": "python",
   "name": "python3"
  },
  "language_info": {
   "codemirror_mode": {
    "name": "ipython",
    "version": 3
   },
   "file_extension": ".py",
   "mimetype": "text/x-python",
   "name": "python",
   "nbconvert_exporter": "python",
   "pygments_lexer": "ipython3",
   "version": "3.12.4"
  }
 },
 "nbformat": 4,
 "nbformat_minor": 2
}
