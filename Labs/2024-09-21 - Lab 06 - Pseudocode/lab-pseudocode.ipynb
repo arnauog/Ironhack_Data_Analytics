{
 "cells": [
  {
   "cell_type": "markdown",
   "metadata": {},
   "source": [
    "# PSEUDOCODE"
   ]
  },
  {
   "cell_type": "markdown",
   "metadata": {},
   "source": [
    "In this lab, you will work to find any solution(hopefully the easiest) to complete this exercise."
   ]
  },
  {
   "cell_type": "markdown",
   "metadata": {},
   "source": [
    "RANDOM GUESS OF A NUMBER\n",
    "\n",
    "The user must give you the start and final number. Your code must be developed to select a random number between this 2. If your selection is too high/low you must give a hint to the user: The number is too high/low. Finally, when the user selects the correct number you must return a \"Congratulations etc\" and the number of guesses needed to find the number. \n",
    "\n",
    "IF YOU TRY IT AND YOU FIND THE NUMBER FIRST GUESS, PLEASE SEND A SCREENSHOT VIA SLACK `(MANDATORY)`"
   ]
  },
  {
   "cell_type": "code",
   "execution_count": 5,
   "metadata": {},
   "outputs": [],
   "source": [
    "# Your code here\n",
    "\n",
    "# voy a intentar hacerlo de manera que el usuario tenga que seguir instrucciones precisas: poner integers, de un valor determinado, etc.\n",
    "# es más complicado pero así evito que el código falle si escribe un float o una string en vez de un integer\n",
    "# sin poner estas restricciones y asumiendo que el user va escribir siempre lo que le digamos, el código sería mucho más simple\n",
    "\n",
    "# input: select a number in a specified range\n",
    "# if it's not an integer, say it and ask for input once again, for both numbers\n",
    "# if the 2nd number is lower than the 1rst one, say it and ask for input once again, ensure again it's an integer\n",
    "# when you finally have 2 integer numbers (num2<num1), chose a randint\n",
    "# if the number is too high, display a message saying so\n",
    "# if the number is too low, display a message saying so\n",
    "# repeat this process (loop) until the user guesses the number\n",
    "# when he does so, display a congratulations message with the number of guesses"
   ]
  },
  {
   "cell_type": "code",
   "execution_count": 6,
   "metadata": {},
   "outputs": [
    {
     "name": "stdout",
     "output_type": "stream",
     "text": [
      "okay is not an integer\n",
      "5.0 is not an integer\n",
      "You have chosen 5\n",
      "ten is not an integer\n",
      "Now you have to guess a number between 5 and 10\n",
      "4 is smaller than 5\n",
      "13 is bigger than 10\n",
      "Your guess, 7, is smaller than the correct number\n",
      "Your guess, 9, is smaller than the correct number\n",
      "Congratulations, you guessed the number! It was 10\n",
      "Number of guesses: 5\n"
     ]
    }
   ],
   "source": [
    "import random\n",
    "\n",
    "def numero():\n",
    "    numero1 = input(\"Give me an integer number\")\n",
    "    while numero1.isdigit() == False: # comprobamos si el número es un integer\n",
    "        print(f\"{numero1} is not an integer\", flush=True)\n",
    "        numero1 = input(\"Give me an integer number\") #si no es un integer, le volvemos a pedir el número\n",
    "    \n",
    "    numero1 = int(numero1) # lo convertimos a integer (el input es un string)\n",
    "    print(f\"You have chosen {numero1}\", flush=True)\n",
    "    \n",
    "    numero2 = input (\"Give me a higher number\")\n",
    "    while numero2.isdigit() == False or int(numero2) <= numero1: # el num2 tiene que ser un integer y mayor que el num1\n",
    "        if numero2.isdigit() == False:\n",
    "            print(f\"{numero2} is not an integer\", flush=True) # igual que antes            \n",
    "        else: \n",
    "            print(f\"{numero2} is smaller or equal to {numero1}\", flush=True) # si num2 es más pequeño, que nos dé otro num2 mayor que num1\n",
    "        numero2 = input(\"Give me a bigger integer number\")\n",
    "\n",
    "    numero2 = int(numero2) # lo convertimos a integer (el input es un string)\n",
    "\n",
    "    correct_num = random.randint(numero1, numero2) # seleccionamos un num random entre num1 y num2       \n",
    "\n",
    "    print(f\"Now you have to guess a number between {numero1} and {numero2}\", flush=True)\n",
    "\n",
    "    contador = 0 # definimos un contador de intentos\n",
    "    while True:  # bucle que permite al usuario ir probando hasta que acierte\n",
    "        guess = input(f\"Guess a number between {numero1} and {numero2}\")\n",
    "        while guess.isdigit() == False: # igual que antes, el num tiene que ser un integer\n",
    "            print(f\"{guess} is not an integer\", flush=True)\n",
    "            guess = input(f\"Give me an integer number between {numero1} and {numero2}\")\n",
    "        \n",
    "        guess = int(guess) # si nos da un num entero, lo convertimos a integer (el input es un string)\n",
    "        contador+=1 # cada vez que falle, que sume un intento\n",
    "        if guess < numero1:\n",
    "            print(f\"{guess} is smaller than {numero1}\", flush=True) # en el caso que nos de un número no comprendido entre num1 y num2            \n",
    "        elif guess > numero2:\n",
    "            print(f\"{guess} is bigger than {numero2}\", flush=True) # en el caso que nos de un número no comprendido entre num1 y num2\n",
    "        elif guess < correct_num:\n",
    "            print(f\"Your guess, {guess}, is smaller than the correct number\", flush=True)\n",
    "        elif guess > correct_num:\n",
    "            print(f\"Your guess, {guess}, is bigger than the correct number\", flush=True)\n",
    "        else: \n",
    "            print(f\"Congratulations, you guessed the number! It was {correct_num}\", flush=True)\n",
    "            return print(f\"Number of guesses: {contador}\") # finalizamos el bucle con la respuesta correcta y el número de intentos\n",
    "               \n",
    "numero()"
   ]
  }
 ],
 "metadata": {
  "kernelspec": {
   "display_name": "toni2",
   "language": "python",
   "name": "python3"
  },
  "language_info": {
   "codemirror_mode": {
    "name": "ipython",
    "version": 3
   },
   "file_extension": ".py",
   "mimetype": "text/x-python",
   "name": "python",
   "nbconvert_exporter": "python",
   "pygments_lexer": "ipython3",
   "version": "3.12.4"
  }
 },
 "nbformat": 4,
 "nbformat_minor": 2
}
